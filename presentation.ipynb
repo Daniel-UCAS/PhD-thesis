{
 "cells": [
  {
   "cell_type": "markdown",
   "metadata": {
    "slideshow": {
     "slide_type": "slide"
    }
   },
   "source": [
    "# Physical and numerical modeling of cross-flow turbines\n",
    "\n",
    "<p class=\"gap3\"<p>\n",
    "\n",
    "<center>\n",
    "<img width=200px src=\"figures/unh.png\">\n",
    "</center>\n",
    "\n",
    "<p class=\"gap3\"<p>\n",
    "\n",
    "<center>\n",
    "by Pete Bachant\n",
    "<p>\n",
    "</center>\n",
    "\n",
    "<center>\n",
    "Advisor: Martin Wosnik\n",
    "<p>\n",
    "</center>"
   ]
  },
  {
   "cell_type": "code",
   "execution_count": null,
   "metadata": {
    "collapsed": false,
    "slideshow": {
     "slide_type": "skip"
    }
   },
   "outputs": [],
   "source": [
    "# Setup stuff\n",
    "%load_ext autoreload\n",
    "%autoreload 2\n",
    "import io\n",
    "import base64\n",
    "from IPython.display import HTML\n",
    "from importlib.machinery import SourceFileLoader\n",
    "%matplotlib inline\n",
    "import os\n",
    "talk_dir = os.getcwd()\n",
    "import matplotlib.pyplot as plt\n",
    "import seaborn as sns\n",
    "from pxl.styleplot import set_sns\n",
    "\n",
    "# Set plot styling\n",
    "set_sns(context=\"talk\", rc={\"lines.markersize\": 14, \"lines.markeredgewidth\": 2, \"axes.grid\": True, \n",
    "                            \"font.size\": 1.5*14.3})\n",
    "\n",
    "# Define some directories\n",
    "exp_dir = \"C:/Users/Pete/Research/Experiments\"\n",
    "rvat_baseline_dir = \"C:/Users/Pete/Research/Experiments/RVAT baseline\"\n",
    "rvat_re_dep_dir = os.path.join(exp_dir, \"RVAT Re dep\")\n",
    "\n",
    "def embed_video(fpath):\n",
    "    video = io.open(fpath, 'r+b').read()\n",
    "    encoded = base64.b64encode(video)\n",
    "    return HTML(data='''<center><video controls loop>\n",
    "                        <source src=\"data:video/mp4;base64,{0}\" type=\"video/mp4\" />\n",
    "                     </video></center>'''.format(encoded.decode('ascii')))"
   ]
  },
  {
   "cell_type": "markdown",
   "metadata": {
    "slideshow": {
     "slide_type": "slide"
    }
   },
   "source": [
    "## What is a cross-flow turbine?\n",
    "\n",
    "<figure style=\"float: right\">\n",
    "<img width=\"420px\" src=\"figures/Murray2011-34m.PNG\">\n",
    "<p class=citation>From Murray and Barone (2011).</p>\n",
    "</figure>\n",
    "\n",
    "* Axis perpendicular to flow\n",
    "* Little success in onshore wind\n",
    "* Fatigue issues\n",
    "* Exaggerated power ratings\n",
    "\n",
    "<figure style=\"text-align: left\">\n",
    "<img width=\"50%\" src=figures/flowind.jpg>\n",
    "<p class=citation>\n",
    "&nbsp; &nbsp; &nbsp; &nbsp; &nbsp; &nbsp; &nbsp; &nbsp; &nbsp; &nbsp; &nbsp;\n",
    "Photo by Paul Gipe. All rights reserved.\n",
    "</p>\n",
    "</figure>"
   ]
  },
  {
   "cell_type": "markdown",
   "metadata": {
    "slideshow": {
     "slide_type": "subslide"
    }
   },
   "source": [
    "## Marine hydrokinetics: ORPC\n",
    "\n",
    "<center>\n",
    "<img width=60% src=figures/orpc.jpg>\n",
    "<p>\n",
    "<img width=60% src=figures/orpc-rivgen.jpg>\n",
    "<p class=citation>\n",
    "From orpc.co.\n",
    "</center>"
   ]
  },
  {
   "cell_type": "markdown",
   "metadata": {
    "slideshow": {
     "slide_type": "subslide"
    }
   },
   "source": [
    "## Wind turbine arrays: Caltech FLOWE\n",
    "\n",
    "<center>\n",
    "<img width=70% src=figures/caltech-flowe.jpg>\n",
    "<p class=citation>\n",
    "From flowe.caltech.edu.\n",
    "</center>"
   ]
  },
  {
   "cell_type": "markdown",
   "metadata": {
    "slideshow": {
     "slide_type": "subslide"
    }
   },
   "source": [
    "## Kinematics"
   ]
  },
  {
   "cell_type": "code",
   "execution_count": null,
   "metadata": {
    "collapsed": false
   },
   "outputs": [],
   "source": [
    "import warnings\n",
    "warnings.filterwarnings(\"ignore\")\n",
    "os.chdir(os.path.join(os.path.expanduser(\"~\"), \"Google Drive\", \"Research\", \"CFT-vectors\"))\n",
    "import cft_vectors\n",
    "fig, ax = plt.subplots(figsize=(15, 15))\n",
    "old_fontsize = plt.rcParams[\"font.size\"]\n",
    "plt.rcParams[\"font.size\"] *= 1.5 \n",
    "cft_vectors.plot_diagram(fig, ax, theta_deg=52, axis=\"off\", label=True)\n",
    "os.chdir(talk_dir)\n",
    "plt.rcParams[\"font.size\"] = old_fontsize"
   ]
  },
  {
   "cell_type": "markdown",
   "metadata": {
    "collapsed": false,
    "slideshow": {
     "slide_type": "subslide"
    }
   },
   "source": [
    "## Kinematics\n",
    "\n",
    "<center>\n",
    "<video width=100% controls loop>\n",
    "  <source src=\"videos/cft-animation.mp4\" type=\"video/mp4\">\n",
    "Your browser does not support the video tag.\n",
    "</video>\n",
    "</center>\n",
    "\n",
    "\n",
    "<!--\n",
    "embed_video(\"C:/Users/Pete/Google Drive/Research/CFT-vectors/videos/cft-animation.mp4\")\n",
    "-->"
   ]
  },
  {
   "cell_type": "markdown",
   "metadata": {
    "slideshow": {
     "slide_type": "subslide"
    }
   },
   "source": [
    "## Quantifying unsteadiness\n",
    "\n",
    "Reduced frequency:\n",
    "\n",
    "$$\n",
    "k = \\frac{\\omega c}{2 U_\\infty} = \\frac{\\lambda c}{2R}\n",
    "$$\n",
    "\n",
    "Unsteady effects significant for $k > 0.05$, dominant for $k \\ge 0.2$.\n",
    "\n",
    "| Rotor | $ c/R $ | $\\lambda$ | $k$ |\n",
    "|-------|-------|-----------|-----|\n",
    "| Sandia 34 m Darrieus | 0.05 | 6 | 0.16 |\n",
    "| Hypothetical MHK | 0.25 | 2 | 0.25 |"
   ]
  },
  {
   "cell_type": "markdown",
   "metadata": {
    "slideshow": {
     "slide_type": "subslide"
    }
   },
   "source": [
    "## Research objectives\n",
    "\n",
    "1. Understand and predict wake recovery to open up array possibilities\n",
    "2. Improve performance modeling <!--Note: will benefit all bladed-devices!-->\n",
    "  * Progress in predicting unsteady separating flows\n",
    "  \n",
    "Step 1: Get more data!"
   ]
  },
  {
   "cell_type": "markdown",
   "metadata": {
    "slideshow": {
     "slide_type": "slide"
    }
   },
   "source": [
    "## Turbine test bed\n",
    "\n",
    "Automated turbine testing in the UNH tow tank\n",
    "\n",
    "<center>\n",
    "<img width=80% src=\"figures/turbine-test-bed-photo.png\">\n",
    "</center>"
   ]
  },
  {
   "cell_type": "markdown",
   "metadata": {
    "slideshow": {
     "slide_type": "skip"
    }
   },
   "source": [
    "## UNH tow tank upgrades\n",
    "\n",
    "* Redesigned broken linear guide system\n",
    "* Added closed-loop position and velocity control (servo, belt drive)\n",
    "    * Improved acceleration by an order of magnitude\n",
    "* Network-based DAQ\n",
    "* On-board power and networking for turbine test bed\n",
    "* Multi-axis motion control"
   ]
  },
  {
   "cell_type": "markdown",
   "metadata": {
    "slideshow": {
     "slide_type": "subslide"
    }
   },
   "source": [
    "## Test bed instrumentation\n",
    "\n",
    "<center>\n",
    "<img width=80% src=figures/converted/turbine-test-bed-drawing.png>\n",
    "</center>"
   ]
  },
  {
   "cell_type": "markdown",
   "metadata": {
    "slideshow": {
     "slide_type": "subslide"
    }
   },
   "source": [
    "## Wake measurement instrumentation\n",
    "\n",
    "* Nortek Vectrino+ acoustic Doppler velocimeter (ADV)\n",
    "* $y$–$z$ traversing carriage with motion control integration\n",
    "\n",
    "<center>\n",
    "<img width=70% src=\"figures/traverse_alone.jpg\">\n",
    "</center>"
   ]
  },
  {
   "cell_type": "markdown",
   "metadata": {
    "slideshow": {
     "slide_type": "subslide"
    }
   },
   "source": [
    "## Automation\n",
    "<!--\n",
    "Increased number of tows per experiment by order of magnitude.\n",
    "-->\n",
    "\n",
    "<center>\n",
    "<img width=60% src=\"figures/TurbineDAQ.PNG\">\n",
    "</center>"
   ]
  },
  {
   "cell_type": "markdown",
   "metadata": {
    "slideshow": {
     "slide_type": "subslide"
    }
   },
   "source": [
    "## Operation\n",
    "\n",
    "<center>\n",
    "<video width=100% controls loop>\n",
    "  <source src=\"videos/rm2-low-tsr-tow-edited.mp4\" type=\"video/mp4\">\n",
    "Your browser does not support the video tag.\n",
    "</video>\n",
    "</center>"
   ]
  },
  {
   "cell_type": "markdown",
   "metadata": {
    "slideshow": {
     "slide_type": "subslide"
    }
   },
   "source": [
    "## UNH-RVAT\n",
    "\n",
    "<img width=44% class=\"float-right\" src=\"figures/rvat-cad-no-hubs.PNG\">\n",
    "\n",
    "* Simple geometry\n",
    "* High solidity $c/R = 0.28$\n",
    "* NACA 0020 profiles"
   ]
  },
  {
   "cell_type": "markdown",
   "metadata": {
    "slideshow": {
     "slide_type": "subslide"
    }
   },
   "source": [
    "## DOE/SNL RM2\n",
    "\n",
    "<img width=44% class=\"float-right\" src=\"figures/converted/rm2-drawing.png\">\n",
    "\n",
    "* Medium solidity $c/R = ???$\n",
    "* Tapered blades\n",
    "* NACA 0021 profiles\n",
    "* Higher aspect ratio\n",
    "* Geometric variety"
   ]
  },
  {
   "cell_type": "markdown",
   "metadata": {
    "slideshow": {
     "slide_type": "slide"
    }
   },
   "source": [
    "## UNH-RVAT baseline experiments\n",
    "\n",
    "* $U_\\infty = 1$ m/s\n",
    "* Characterize performance\n",
    "* Understand near-wake dynamics\n",
    "* Establish modeling \"targets\" and produce open validation dataset for high solidity turbine"
   ]
  },
  {
   "cell_type": "markdown",
   "metadata": {
    "slideshow": {
     "slide_type": "subslide"
    }
   },
   "source": [
    "## UNH-RVAT baseline performance\n",
    "\n",
    "<!--\n",
    "<center>\n",
    "<img src=\"figures/test.png\" width=80%>\n",
    "</center>\n",
    "-->"
   ]
  },
  {
   "cell_type": "code",
   "execution_count": null,
   "metadata": {
    "collapsed": false
   },
   "outputs": [],
   "source": [
    "# Generate figures from the experiments by their own methods\n",
    "\n",
    "os.chdir(\"C:/Users/Pete/Research/Experiments/RVAT baseline\")\n",
    "import pyrvatbl.plotting as rvat_baseline\n",
    "\n",
    "fig, (ax1, ax2) = plt.subplots(figsize=(14, 5), nrows=1, ncols=2)\n",
    "rvat_baseline.plot_cp(ax1)\n",
    "rvat_baseline.plot_cd(ax2, color=sns.color_palette()[2])\n",
    "fig.tight_layout()\n",
    "os.chdir(talk_dir)"
   ]
  },
  {
   "cell_type": "markdown",
   "metadata": {},
   "source": [
    "<center>\n",
    "$\\lambda = \\frac{\\omega R}{U_\\infty}$\n",
    "&nbsp; &nbsp; &nbsp; &nbsp;\n",
    "$C_P = \\frac{P_\\mathrm{mech}}{\\frac{1}{2}\\rho A_\\mathrm{f} U_\\infty^3}$\n",
    "&nbsp; &nbsp; &nbsp; &nbsp;\n",
    "$C_D = \\frac{F_\\mathrm{drag}}{\\frac{1}{2}\\rho A_\\mathrm{f} U_\\infty^2}$\n",
    "</center>"
   ]
  },
  {
   "cell_type": "markdown",
   "metadata": {
    "slideshow": {
     "slide_type": "subslide"
    }
   },
   "source": [
    "## Baseline wake measurements $(x/D=1)$\n",
    "\n",
    "<center>\n",
    "<img width=80% src=\"figures/converted/unh-rvat-coord-sys.png\">\n",
    "</center>\n"
   ]
  },
  {
   "cell_type": "markdown",
   "metadata": {
    "slideshow": {
     "slide_type": "subslide"
    }
   },
   "source": [
    "## UNH-RVAT baseline wake characteristics"
   ]
  },
  {
   "cell_type": "code",
   "execution_count": null,
   "metadata": {
    "collapsed": false
   },
   "outputs": [],
   "source": [
    "os.chdir(rvat_baseline_dir)\n",
    "rvat_baseline.plotwake(\"meancontquiv\", scale=1.8)\n",
    "rvat_baseline.plotwake(\"kcont\", scale=1.8)"
   ]
  },
  {
   "cell_type": "markdown",
   "metadata": {
    "slideshow": {
     "slide_type": "notes"
    }
   },
   "source": [
    "One might guess this mean vertical velocity is important, since for an AFT you have a uniform swirl,\n",
    "but we want to compare to the turbulence."
   ]
  },
  {
   "cell_type": "markdown",
   "metadata": {
    "slideshow": {
     "slide_type": "subslide"
    }
   },
   "source": [
    "## Mean momentum transport\n",
    "\n",
    "$$\n",
    "\\begin{split}\n",
    "\\frac{\\partial U}{\\partial x}  =  \n",
    "\\frac{1}{U} \\bigg{[}\n",
    "& - V\\frac{\\partial U}{\\partial y}\n",
    "- W\\frac{\\partial U}{\\partial z} \\\\\n",
    "& -\\frac{1}{\\rho}\\frac{\\partial P}{\\partial x} \\\\\n",
    "& - \\frac{\\partial}{\\partial x} \\overline{u'u'}\n",
    "- \\frac{\\partial}{\\partial y} \\overline{u'v'}\n",
    "- \\frac{\\partial}{\\partial z} \\overline{u'w'} \\\\\n",
    "& + \\nu\\left(\\frac{\\partial^2 U}{\\partial x^2}\n",
    "+ \\frac{\\partial^2 U}{\\partial y^2}\n",
    "+ \\frac{\\partial^2 U}{\\partial z^2} \\right)\n",
    "\\bigg{]}.\n",
    "\\end{split}\n",
    "$$"
   ]
  },
  {
   "cell_type": "markdown",
   "metadata": {
    "slideshow": {
     "slide_type": "skip"
    }
   },
   "source": [
    "## Mean kinetic energy transport\n",
    "\n",
    "$$\n",
    "\\begin{split}\n",
    "\\frac{\\partial K}{\\partial x}\n",
    "=\n",
    "\\frac{1}{U}\n",
    "\\bigg{[}\n",
    "& - \\underbrace{V \\frac{\\partial K}{\\partial y}}_{y\\text{-adv.}}\n",
    "- \\underbrace{W \\frac{\\partial K}{\\partial z}}_{z\\text{-adv.}}\n",
    "% Pressure work:\n",
    "- \\frac{1}{\\rho}\\frac{\\partial}{\\partial x_j} P U_i \\delta_{ij}\n",
    "% Work by viscous forces\n",
    "+ \\frac{\\partial}{\\partial x_j} 2 \\nu U_i S_{ij} \\\\ % Not sure if that's capital S...\n",
    "% Turbulent transport of K\n",
    "& - \\underbrace{\n",
    "\\frac{1}{2}\\frac{\\partial}{\\partial x_j} \\overline{u_i' u_j'} U_i\n",
    "}_{\\text{Turb. trans.}}\n",
    "% Production of k \n",
    "+ \\underbrace{\n",
    "\\overline{u_i' u_j'} \\frac{\\partial U_i}{\\partial x_j}\n",
    "}_{k\\text{-prod.}}\n",
    "% Mean dissipation? Bar could be removed, or no? -- yes, capital letter, no bar.\n",
    "- \n",
    "\\underbrace{\n",
    "2 \\nu S_{ij}S_{ij}\n",
    "}_{\\text{Mean diss.}}\n",
    "\\bigg{]}.\n",
    "\\end{split}\n",
    "$$"
   ]
  },
  {
   "cell_type": "markdown",
   "metadata": {
    "slideshow": {
     "slide_type": "subslide"
    }
   },
   "source": [
    "## Mean momentum transport\n",
    "\n",
    "Weighted averages at $x/D=1$:"
   ]
  },
  {
   "cell_type": "code",
   "execution_count": null,
   "metadata": {
    "collapsed": false,
    "slideshow": {
     "slide_type": "-"
    }
   },
   "outputs": [],
   "source": [
    "os.chdir(\"C:/Users/Pete/Research/Experiments/RVAT baseline\")\n",
    "import pyrvatbl.plotting as rvat_baseline\n",
    "\n",
    "rvat_baseline.plotwake(\"mombargraph\", scale=1.8, barcolor=None)\n",
    "plt.grid(True)"
   ]
  },
  {
   "cell_type": "code",
   "execution_count": null,
   "metadata": {
    "collapsed": false,
    "slideshow": {
     "slide_type": "skip"
    }
   },
   "outputs": [],
   "source": [
    "os.chdir(\"C:/Users/Pete/Research/Experiments/RVAT baseline\")\n",
    "import pyrvatbl.plotting as rvat_baseline\n",
    "\n",
    "rvat_baseline.plotwake(\"Kbargraph\", scale=1.8, barcolor=sns.color_palette()[1])\n",
    "plt.grid(True)"
   ]
  },
  {
   "cell_type": "markdown",
   "metadata": {
    "slideshow": {
     "slide_type": "slide"
    }
   },
   "source": [
    "## UNH-RVAT Reynolds number dependence\n",
    "\n",
    "* Are our results relevant to full scale?\n",
    "* Models should be validated for the scales at which they will be applied, if possible\n",
    "* How cheap (small, slow) can experiments get?\n",
    "\n",
    "$$\n",
    "Re = \\frac{Ul}{\\nu}\n",
    "$$"
   ]
  },
  {
   "cell_type": "markdown",
   "metadata": {
    "slideshow": {
     "slide_type": "subslide"
    }
   },
   "source": [
    "## UNH-RVAT Reynolds number dependence"
   ]
  },
  {
   "cell_type": "code",
   "execution_count": null,
   "metadata": {
    "collapsed": false,
    "slideshow": {
     "slide_type": "-"
    }
   },
   "outputs": [],
   "source": [
    "os.chdir(rvat_re_dep_dir)\n",
    "import pyrvatrd.plotting as rvat_re_dep\n",
    "\n",
    "fig, (ax1, ax2) = plt.subplots(figsize=(15, 6.5), nrows=1, ncols=2)\n",
    "rvat_re_dep.plot_perf_curves(ax1, ax2)\n",
    "fig.tight_layout()\n",
    "os.chdir(talk_dir)"
   ]
  },
  {
   "cell_type": "markdown",
   "metadata": {
    "slideshow": {
     "slide_type": "subslide"
    }
   },
   "source": [
    "## Reynolds number dependence at $\\lambda = 1.9$"
   ]
  },
  {
   "cell_type": "code",
   "execution_count": null,
   "metadata": {
    "collapsed": false
   },
   "outputs": [],
   "source": [
    "os.chdir(rvat_re_dep_dir)\n",
    "import pyrvatrd.plotting as rvat_re_dep\n",
    "\n",
    "fig, (ax1, ax2) = plt.subplots(figsize=(14, 6), nrows=1, ncols=2)\n",
    "rvat_re_dep.plot_perf_re_dep(ax1, ax2, errorbars=True)\n",
    "fig.tight_layout()"
   ]
  },
  {
   "cell_type": "markdown",
   "metadata": {
    "slideshow": {
     "slide_type": "subslide"
    }
   },
   "source": [
    "## Blade boundary layer dynamics\n",
    "\n",
    "<center>\n",
    "<img src=\"figures/McMasters-Henderson-1980.PNG\" width=70%>\n",
    "\n",
    "<p class=\"citation\">From McMasters and Henderson (1980)</p>\n",
    "</center>\n"
   ]
  },
  {
   "cell_type": "markdown",
   "metadata": {
    "slideshow": {
     "slide_type": "skip"
    }
   },
   "source": [
    "## Wake transport"
   ]
  },
  {
   "cell_type": "code",
   "execution_count": null,
   "metadata": {
    "collapsed": false,
    "slideshow": {
     "slide_type": "skip"
    }
   },
   "outputs": [],
   "source": [
    "os.chdir(rvat_re_dep_dir)\n",
    "import pyrvatrd.plotting as rvat_re_dep\n",
    "\n",
    "fig, ax = plt.subplots(figsize=(13, 7))\n",
    "rvat_re_dep.make_mom_bar_graph(ax, print_analysis=False)\n",
    "fig.tight_layout()"
   ]
  },
  {
   "cell_type": "markdown",
   "metadata": {
    "slideshow": {
     "slide_type": "subslide"
    }
   },
   "source": [
    "## Wake transport totals"
   ]
  },
  {
   "cell_type": "code",
   "execution_count": null,
   "metadata": {
    "collapsed": false
   },
   "outputs": [],
   "source": [
    "os.chdir(rvat_re_dep_dir)\n",
    "import pyrvatrd.plotting as rvat_re_dep\n",
    "\n",
    "fig, ax = plt.subplots()\n",
    "rvat_re_dep.plot_wake_trans_totals(ax)\n",
    "fig.tight_layout()"
   ]
  },
  {
   "cell_type": "markdown",
   "metadata": {
    "slideshow": {
     "slide_type": "slide"
    }
   },
   "source": [
    "## RM2 experiments\n",
    "\n",
    "* Measure performance and its Reynolds number dependence\n",
    "* Measure near-wake\n",
    "* Investigate strut drag effects\n",
    "  * Performance with no blades\n",
    "  * Add cylindrical strut drag covers for very high losses"
   ]
  },
  {
   "cell_type": "markdown",
   "metadata": {
    "slideshow": {
     "slide_type": "slide"
    }
   },
   "source": [
    "## Numerical modeling\n",
    "\n",
    "* Experiments are expensive\n",
    "* Can be difficult to modify, e.g., turbine geometry\n",
    "* Scaling issues\n",
    "* Can we compute instead?"
   ]
  },
  {
   "cell_type": "markdown",
   "metadata": {
    "slideshow": {
     "slide_type": "skip"
    }
   },
   "source": [
    "## Techniques\n",
    "\n",
    "* **Blade element methods:** Use section characteristics to predict loading\n",
    "  * Momentum: Very cheap, issues with high solidity, very little flow information\n",
    "  * Vortex (potential flow): Cheap, also issues with high solidity, no turbulence\n",
    "* **Navier–Stokes:** Turbulence modeled via RANS or LES (no DNS possible at this $Re$, yet)\n",
    "  * Highest cost"
   ]
  },
  {
   "cell_type": "markdown",
   "metadata": {
    "slideshow": {
     "slide_type": "subslide"
    }
   },
   "source": [
    "## UNH-RVAT blade-resolved RANS\n",
    "\n",
    "<div>\n",
    "<ul>\n",
    "<li>Simulate baseline with OpenFOAM</li>\n",
    "<img width=\"60%\" style=\"float: right\" src=\"figures/3D_vorticity_SA_964_10-threshold.png\"/>\n",
    "<li>Need to resolve the boundary layer</li>\n",
    "  <ul>\n",
    "  <li>Separation</li>\n",
    "  <li>Transition?</li>\n",
    "  </ul>\n",
    "<li>Turbulence models (eddy viscosity)</li>\n",
    "  <ul>\n",
    "  <li>$k$–$\\omega$ SST</li>\n",
    "  <li>Spalart–Allmaras</li>\n",
    "  </ul>\n",
    "<li>2-D: $\\sim 0.1$ CPU hours per simulated second</li>\n",
    "<li>3-D: $\\sim 10^3$ CPU hours per simulated second</li>\n",
    "  <ul>\n",
    "  <li>Feasible to replace experiments?</li>\n",
    "  <li>\"Interpolate\" wake measurements?</li>\n",
    "  </ul>\n",
    "</ul>\n",
    "\n",
    "</div>"
   ]
  },
  {
   "cell_type": "markdown",
   "metadata": {
    "slideshow": {
     "slide_type": "subslide"
    }
   },
   "source": [
    "## Overall mesh topology\n",
    "\n",
    "<center>\n",
    "<img width=65% src=\"figures/BR-CFD_2D_mesh.png\">\n",
    "</center>"
   ]
  },
  {
   "cell_type": "markdown",
   "metadata": {
    "slideshow": {
     "slide_type": "subslide"
    }
   },
   "source": [
    "## Near-wall blade mesh\n",
    "\n",
    "<center>\n",
    "<img width=60% src=\"figures/BR-CFD_2D_blade_mesh_closeup.png\">\n",
    "</center>\n",
    "\n",
    "$$\n",
    "y^+ \\sim 1\n",
    "$$"
   ]
  },
  {
   "cell_type": "markdown",
   "metadata": {
    "slideshow": {
     "slide_type": "subslide"
    }
   },
   "source": [
    "## Verification (2-D)\n",
    "\n",
    "<center>\n",
    "<img width=90%, src=\"figures/converted/BR-CFD_verification.png\">\n",
    "</center>"
   ]
  },
  {
   "cell_type": "markdown",
   "metadata": {
    "slideshow": {
     "slide_type": "subslide"
    }
   },
   "source": [
    "## Performance predictions\n",
    "\n",
    "<center>\n",
    "<img width=90%, src=\"figures/converted/BR-CFD_perf_bar_chart.png\">\n",
    "</center>"
   ]
  },
  {
   "cell_type": "markdown",
   "metadata": {
    "slideshow": {
     "slide_type": "subslide"
    }
   },
   "source": [
    "## Near-wake mean velocity (SA 3-D vs. experiment)\n",
    "\n",
    "<center>\n",
    "<img width=65%, src=\"figures/converted/BR-CFD_meancontquiv_SpalartAllmaras.png\">\n",
    "</center>\n",
    "\n",
    "<center>\n",
    "<img width=65%, style=\"padding-left: 45px\", src=\"figures/converted/RVAT-baseline_meancontquiv.png\">\n",
    "</center>"
   ]
  },
  {
   "cell_type": "markdown",
   "metadata": {
    "slideshow": {
     "slide_type": "subslide"
    }
   },
   "source": [
    "## Near-wake mean velocity (SST 3-D vs. experiment)\n",
    "\n",
    "<center>\n",
    "<img width=65%, src=\"figures/converted/BR-CFD_meancontquiv_kOmegaSST.png\">\n",
    "</center>\n",
    "\n",
    "<center>\n",
    "<img width=65%, style=\"padding-left: 45px\", src=\"figures/converted/RVAT-baseline_meancontquiv.png\">\n",
    "</center>"
   ]
  },
  {
   "cell_type": "markdown",
   "metadata": {
    "slideshow": {
     "slide_type": "subslide"
    }
   },
   "source": [
    "## Near-wake TKE (SA 3-D vs. experiment)\n",
    "\n",
    "<center>\n",
    "<img width=80%, src=\"figures/converted/BR-CFD_kcont_SpalartAllmaras.png\">\n",
    "</center>\n",
    "\n",
    "<center>\n",
    "<img width=80%, src=\"figures/converted/RVAT-baseline_kcont.png\">\n",
    "</center>"
   ]
  },
  {
   "cell_type": "markdown",
   "metadata": {
    "slideshow": {
     "slide_type": "subslide"
    }
   },
   "source": [
    "## Near-wake TKE (SST 3-D vs. experiment)\n",
    "\n",
    "<center>\n",
    "<img width=80%, src=\"figures/converted/BR-CFD_kcont_kOmegaSST.png\">\n",
    "</center>\n",
    "\n",
    "<center>\n",
    "<img width=80%, src=\"figures/converted/RVAT-baseline_kcont.png\">\n",
    "</center>"
   ]
  },
  {
   "cell_type": "markdown",
   "metadata": {
    "slideshow": {
     "slide_type": "subslide"
    }
   },
   "source": [
    "## Near-wake momentum transport\n",
    "\n",
    "<center>\n",
    "<img width=90%, src=\"figures/converted/BR-CFD_mom_bar_graph.png\">\n",
    "</center>"
   ]
  },
  {
   "cell_type": "markdown",
   "metadata": {
    "slideshow": {
     "slide_type": "subslide"
    }
   },
   "source": [
    "## Summary: Blade-resolved CFD\n",
    "\n",
    "* 2-D feasible but poor predictor of performance and wake\n",
    "* 3-D _may_ be good for single turbine, but too expensive for arrays"
   ]
  },
  {
   "cell_type": "markdown",
   "metadata": {
    "slideshow": {
     "slide_type": "slide"
    }
   },
   "source": [
    "## Actuator line modeling\n",
    "\n",
    "* Developed by Sorensen and Shen (2002)\n",
    "* Blade element method coupled with Navier–Stokes\n",
    "* Save computational resources\n",
    "  * No finely resolved blade boundary layers\n",
    "  * No complicated meshing\n",
    "  * No mesh motion\n",
    "* More physical description of wake evolution, turbulence\n",
    "* Should resolve wakes of high solidity turbine blades\n"
   ]
  },
  {
   "cell_type": "markdown",
   "metadata": {
    "slideshow": {
     "slide_type": "subslide"
    }
   },
   "source": [
    "## ALM blade element discretization\n",
    "\n",
    "\n",
    "<center>\n",
    "<img width=80% src=figures/converted/alm-geometry.png>\n",
    "</center>\n"
   ]
  },
  {
   "cell_type": "markdown",
   "metadata": {
    "slideshow": {
     "slide_type": "subslide"
    }
   },
   "source": [
    "## Computing blade loading"
   ]
  },
  {
   "cell_type": "code",
   "execution_count": null,
   "metadata": {
    "collapsed": false
   },
   "outputs": [],
   "source": [
    "import warnings\n",
    "warnings.filterwarnings(\"ignore\")\n",
    "os.chdir(os.path.join(os.path.expanduser(\"~\"), \"Google Drive\", \"Research\", \"CFT-vectors\"))\n",
    "import cft_vectors\n",
    "fig, ax = plt.subplots(figsize=(15, 15))\n",
    "old_fontsize = plt.rcParams[\"font.size\"]\n",
    "plt.rcParams[\"font.size\"] *= 1.5 \n",
    "cft_vectors.plot_diagram(fig, ax, theta_deg=52, axis=\"off\", label=True)\n",
    "os.chdir(talk_dir)\n",
    "plt.rcParams[\"font.size\"] = old_fontsize"
   ]
  },
  {
   "cell_type": "markdown",
   "metadata": {
    "slideshow": {
     "slide_type": "skip"
    }
   },
   "source": [
    "## Existing ALMs\n",
    "\n",
    "* Shamsoddin and Porte-Agel (2014)\n",
    "  * Cross-flow turbines in LES\n",
    "  * Closed source\n",
    "  * Validated against very low $Re$ 2-D data\n",
    "  * No performance predictions\n",
    "* NREL's SOWFA\n",
    "  * Open source OpenFOAM extension\n",
    "  * Axial-flow turbines only\n",
    "  * Mostly procedural style (hard to adapt for CFTs, many nested loops)\n",
    "  \n",
    "Time to write a new one!"
   ]
  },
  {
   "cell_type": "markdown",
   "metadata": {
    "slideshow": {
     "slide_type": "skip"
    }
   },
   "source": [
    "## New ALM library: `turbinesFoam`\n",
    "\n",
    "### Primary objectives\n",
    "\n",
    "* Simulate a standalone CFT in 3-D at $O(0.1)$ CPU hours per simulated second\n",
    "* Reasonable accuracy predicting performance (high and low solidity CFTs)\n",
    "* Match RVAT near-wake characteristics\n",
    "  * Mean velocity\n",
    "  * Turbulence kinetic energy\n",
    "  * Transport terms\n",
    "* Capture CFT \"constructive interference\" (Li and Calisal, 2010)\n",
    "\n",
    "\n",
    "### Secondary objectives\n",
    "\n",
    "* Also simulate AFTs\n",
    "* Easily automated, e.g. for finding optimal array layouts"
   ]
  },
  {
   "cell_type": "markdown",
   "metadata": {
    "slideshow": {
     "slide_type": "subslide"
    }
   },
   "source": [
    "## Flow field coupling\n",
    "\n",
    "AL force added to Navier–Stokes as body force source term at element positions:\n",
    "\n",
    "$$\n",
    "\\frac{\\partial \\vec{u}}{\\partial t} + \\vec{u} \\cdot \\nabla \\vec{u} = -\\frac{1}{\\rho}\\nabla p + \\nabla^2 \\vec{u} + \\boxed{\\vec{f}}\n",
    "$$\n",
    "\n",
    "Force is smoothed outwards with a spherical Gaussian function to avoid numerical instability."
   ]
  },
  {
   "cell_type": "markdown",
   "metadata": {
    "slideshow": {
     "slide_type": "subslide"
    }
   },
   "source": [
    "## Implementation\n",
    "\n",
    "OpenFOAM extension library using `fvOptions` generic mechanism for adding sources at run time:\n",
    "\n",
    "```c++\n",
    "// Solve the Momentum equation\n",
    "\n",
    "tmp<fvVectorMatrix> UEqn\n",
    "(\n",
    "    fvm::ddt(U)\n",
    "  + fvm::div(phi, U)\n",
    "  + turbulence->divDevReff(U)\n",
    " ==\n",
    "    fvOptions(U)\n",
    ");\n",
    "```\n",
    "\n",
    "Leverage existing solvers, parallelization, turbulence models. _No wheel reinvention._"
   ]
  },
  {
   "cell_type": "markdown",
   "metadata": {
    "slideshow": {
     "slide_type": "skip"
    }
   },
   "source": [
    "## Implementation\n",
    "\n",
    "* An actuator line is composed of elements for which section coefficient data is available\n",
    "* Turbine composed of actuator lines—blades, struts, shafts, towers, etc. (any profile)\n",
    "* Use OpenFOAM's object oriented style to easily \"reuse\" actuator line code in both CFT and AFT (maintainability!)\n",
    "* Open source: https://github.com/turbinesFoam"
   ]
  },
  {
   "cell_type": "markdown",
   "metadata": {
    "slideshow": {
     "slide_type": "subslide"
    }
   },
   "source": [
    "## UNH-RVAT and RM2 actuator line simulations\n",
    "\n",
    "* Standard $k$–$\\epsilon$ RANS model\n",
    "* Similar domain and BCs as 3-D blade-resolved case\n",
    "* Leishman–Beddoes DS model modified by Sheng et al. (2008)\n",
    "* Flow curvature correction from Goude (2012)\n",
    "* Lifting line based end effects model (not used for RM2)\n",
    "* Added mass correction from Strickland et al. (1981)\n",
    "* NACA 0021 static coefficients from Sheldahl and Klimas (1981)"
   ]
  },
  {
   "cell_type": "markdown",
   "metadata": {
    "slideshow": {
     "slide_type": "subslide"
    }
   },
   "source": [
    "## ALM mesh\n",
    "\n",
    "<center>\n",
    "<img width=80% src=figures/alm-mesh.PNG>\n",
    "</center>"
   ]
  },
  {
   "cell_type": "markdown",
   "metadata": {
    "slideshow": {
     "slide_type": "subslide"
    }
   },
   "source": [
    "## ALM verification\n",
    "\n",
    "<center>\n",
    "<img width=80% src=figures/converted/RVAT-ALM_verification.png>\n",
    "</center>\n",
    "\n",
    "<center>\n",
    "<img width=80% src=figures/converted/RM2-ALM_verification.png>\n",
    "</center>"
   ]
  },
  {
   "cell_type": "markdown",
   "metadata": {
    "slideshow": {
     "slide_type": "subslide"
    }
   },
   "source": [
    "## ALM performance\n",
    "\n",
    "<center>\n",
    "<img width=70% src=figures/converted/RVAT-ALM_perf-curves.png>\n",
    "</center>\n",
    "\n",
    "<center>\n",
    "<img width=70% src=figures/converted/RM2-ALM_perf-curves.png>\n",
    "</center>"
   ]
  },
  {
   "cell_type": "markdown",
   "metadata": {
    "slideshow": {
     "slide_type": "subslide"
    }
   },
   "source": [
    "## UNH-RVAT near-wake mean velocity (ALM)\n",
    "\n",
    "<center>\n",
    "<img width=65%, src=\"figures/converted/RVAT-ALM_meancontquiv.png\">\n",
    "</center>\n",
    "\n",
    "<center>\n",
    "<img width=65%, style=\"padding-left: 45px\", src=\"figures/converted/RVAT-baseline_meancontquiv.png\">\n",
    "</center>"
   ]
  },
  {
   "cell_type": "markdown",
   "metadata": {
    "slideshow": {
     "slide_type": "subslide"
    }
   },
   "source": [
    "## Near-wake TKE (ALM vs. experiment)\n",
    "\n",
    "<center>\n",
    "<img width=80%, src=\"figures/converted/RVAT-ALM_kcont.png\">\n",
    "</center>\n",
    "\n",
    "<center>\n",
    "<img width=80%, src=\"figures/converted/RVAT-baseline_kcont.png\">\n",
    "</center>"
   ]
  },
  {
   "cell_type": "markdown",
   "metadata": {
    "slideshow": {
     "slide_type": "subslide"
    }
   },
   "source": [
    "## RVAT near-wake profiles at $z/H=0$ (ALM)\n",
    "\n",
    "<center>\n",
    "<img width=80%, src=\"figures/converted/RVAT-ALM_wake-profiles.png\">\n",
    "</center>"
   ]
  },
  {
   "cell_type": "markdown",
   "metadata": {
    "slideshow": {
     "slide_type": "subslide"
    }
   },
   "source": [
    "## UNH-RVAT near-wake momentum transport (RANS ALM)\n",
    "\n",
    "<center>\n",
    "<img width=90%, src=\"figures/converted/RVAT-ALM_recovery-bar-chart.png\">\n",
    "</center>"
   ]
  },
  {
   "cell_type": "markdown",
   "metadata": {
    "slideshow": {
     "slide_type": "subslide"
    }
   },
   "source": [
    "## RM2 near-wake mean velocity (ALM)\n",
    "\n",
    "<center>\n",
    "<img width=65%, src=\"figures/converted/RM2-ALM_meancontquiv.png\">\n",
    "</center>\n",
    "\n",
    "<center>\n",
    "<img width=65%, style=\"padding-left: 45px\", src=\"figures/converted/RM2-tow-tank_meancontquiv.png\">\n",
    "</center>"
   ]
  },
  {
   "cell_type": "markdown",
   "metadata": {
    "slideshow": {
     "slide_type": "subslide"
    }
   },
   "source": [
    "## RM2 near-wake TKE (ALM vs. experiment)\n",
    "\n",
    "<center>\n",
    "<img width=80%, src=\"figures/converted/RM2-ALM_kcont.png\">\n",
    "</center>\n",
    "\n",
    "<center>\n",
    "<img width=80%, src=\"figures/converted/RM2-tow-tank_k_contours.png\">\n",
    "</center>"
   ]
  },
  {
   "cell_type": "markdown",
   "metadata": {
    "slideshow": {
     "slide_type": "subslide"
    }
   },
   "source": [
    "## RM2 near-wake mean velocity (ALM)\n",
    "\n",
    "<center>\n",
    "<img width=80%, src=\"figures/converted/RM2-ALM_wake-profiles.png\">\n",
    "</center>"
   ]
  },
  {
   "cell_type": "markdown",
   "metadata": {
    "slideshow": {
     "slide_type": "subslide"
    }
   },
   "source": [
    "## RM2 near-wake momentum transport (RANS ALM)\n",
    "\n",
    "<center>\n",
    "<img width=90%, src=\"figures/converted/RM2-ALM_recovery-bar-chart.png\">\n",
    "</center>"
   ]
  },
  {
   "cell_type": "markdown",
   "metadata": {
    "slideshow": {
     "slide_type": "subslide"
    }
   },
   "source": [
    "## UNH-RVAT ALM LES\n",
    "\n",
    "<center>\n",
    "<video width=100% controls loop>\n",
    "  <source src=\"videos/unh-rvat-alm-les.ogv\" type=\"video/ogg\">\n",
    "Your browser does not support the video tag.\n",
    "</video>\n",
    "</center>\n",
    "\n",
    "<!--\n",
    "<center>\n",
    "<iframe width=\"1000\" height=\"500\" src=\"https://www.youtube.com/embed/THZvV4R1vow?rel=0&autoplay=0\" frameborder=0 allowfullscreen></iframe>\n",
    "</center>\n",
    "-->"
   ]
  },
  {
   "cell_type": "markdown",
   "metadata": {
    "slideshow": {
     "slide_type": "subslide"
    }
   },
   "source": [
    "## UNH-RVAT near-wake momentum transport (LES ALM)\n",
    "\n",
    "<center>\n",
    "<img width=90%, src=\"figures/converted/RVAT-ALM-LES_recovery-bar-chart.png\">\n",
    "</center>"
   ]
  },
  {
   "cell_type": "markdown",
   "metadata": {
    "slideshow": {
     "slide_type": "slide"
    }
   },
   "source": [
    "## Conclusions\n",
    "\n",
    "* Developed an automated turbine test bed and two 1 m scale turbine models\n",
    "  * High solidity UNH-RVAT and medium/low solidity RM2\n",
    "* Near-wake streamwise recovery dominated by vertical advection\n",
    "* $Re$-independence at $Re_D \\sim 10^6$ or $Re_c \\sim 10^5$\n",
    "  * Solidified guidelines for physical model scaling\n",
    "* Blade-resolved RANS _can_ postdict results in 3-D\n",
    "  * Too expensive for arrays\n",
    "* Open-source ALM library developed for OpenFOAM\n",
    "  * Nice bridge between low- and high-fidelity modeling\n",
    "  * Retains Navier--Stokes description\n",
    "  * Reduce computational effort by $\\sim 10^4$ in RANS, $\\sim 10^2$ in LES (not including meshing)\n",
    "  * Performance predictions close to 3-D B-R RANS at optimal $\\lambda$\n",
    "  * Overprediction of $C_P$ at high $\\lambda$\n",
    "  * LES wake predictions close to experiment, except turbulent transport\n",
    "  * Exciting prospect for future development"
   ]
  },
  {
   "cell_type": "markdown",
   "metadata": {
    "slideshow": {
     "slide_type": "subslide"
    }
   },
   "source": [
    "## Future work: VAT with free surface\n",
    "\n",
    "<center>\n",
    "<video width=100% controls loop>\n",
    "  <source src=\"videos/unh-rvat-alm-free-surface.ogv\" type=\"video/ogg\">\n",
    "Your browser does not support the video tag.\n",
    "</video>\n",
    "</center>"
   ]
  },
  {
   "cell_type": "markdown",
   "metadata": {
    "slideshow": {
     "slide_type": "subslide"
    }
   },
   "source": [
    "## Future work: Axial-flow turbine\n",
    "\n",
    "Extensive AFT validation case by Krogstad and Adaramola (2012)\n",
    "\n",
    "<center>\n",
    "<video width=100% controls loop>\n",
    "  <source src=\"videos/aft-alm-les.ogv\" type=\"video/ogg\">\n",
    "Your browser does not support the video tag.\n",
    "</video>\n",
    "</center>"
   ]
  },
  {
   "cell_type": "markdown",
   "metadata": {
    "slideshow": {
     "slide_type": "subslide"
    }
   },
   "source": [
    "## Acknowledgments\n",
    "\n",
    "<center>\n",
    "<img width=200px src=figures/nsf.png>\n",
    "<img width=200px src=figures/us-doe.png>\n",
    "<img width=200px src=figures/snl_logo.png>\n",
    "</center>\n"
   ]
  }
 ],
 "metadata": {
  "celltoolbar": "Slideshow",
  "kernelspec": {
   "display_name": "Python 3",
   "language": "python",
   "name": "python3"
  },
  "language_info": {
   "codemirror_mode": {
    "name": "ipython",
    "version": 3
   },
   "file_extension": ".py",
   "mimetype": "text/x-python",
   "name": "python",
   "nbconvert_exporter": "python",
   "pygments_lexer": "ipython3",
   "version": "3.5.1"
  }
 },
 "nbformat": 4,
 "nbformat_minor": 0
}
