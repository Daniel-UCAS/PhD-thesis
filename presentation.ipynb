{
 "cells": [
  {
   "cell_type": "markdown",
   "metadata": {
    "slideshow": {
     "slide_type": "slide"
    }
   },
   "source": [
    "# Physical and numerical modeling of cross-flow turbines\n",
    "\n",
    "<p class=\"gap3\"<p>\n",
    "\n",
    "<center>\n",
    "<img width=200px src=\"figures/unh.png\">\n",
    "</center>\n",
    "\n",
    "<p class=\"gap3\"<p>\n",
    "\n",
    "<center>\n",
    "by Pete Bachant\n",
    "<p>\n",
    "</center>\n",
    "\n",
    "<center>\n",
    "Advisor: Martin Wosnik\n",
    "<p>\n",
    "</center>"
   ]
  },
  {
   "cell_type": "code",
   "execution_count": null,
   "metadata": {
    "collapsed": false,
    "slideshow": {
     "slide_type": "skip"
    }
   },
   "outputs": [],
   "source": [
    "# Setup stuff\n",
    "%load_ext autoreload\n",
    "%autoreload 2\n",
    "import io\n",
    "import base64\n",
    "from IPython.display import HTML\n",
    "from importlib.machinery import SourceFileLoader\n",
    "%matplotlib inline\n",
    "import os\n",
    "talk_dir = os.getcwd()\n",
    "import matplotlib.pyplot as plt\n",
    "import seaborn as sns\n",
    "from pxl.styleplot import set_sns\n",
    "\n",
    "# Set plot styling\n",
    "set_sns(context=\"talk\", font_scale=1.75, \n",
    "        rc={\"lines.markersize\": 14, \"lines.markeredgewidth\": 2, \"axes.grid\": True, \n",
    "            \"font.size\": 1.5*14})\n",
    "\n",
    "# Define some directories\n",
    "exp_dir = os.path.join(os.path.expanduser(\"~\"), \"Google Drive\", \"Research\", \"Experiments\")\n",
    "rvat_baseline_dir = os.path.join(exp_dir, \"RVAT-baseline\")\n",
    "rvat_re_dep_dir = os.path.join(exp_dir, \"RVAT Re dep\")\n",
    "rm2_tow_tank_dir = os.path.join(exp_dir, \"RM2 tow tank\")\n",
    "\n",
    "def embed_video(fpath):\n",
    "    video = io.open(fpath, 'r+b').read()\n",
    "    encoded = base64.b64encode(video)\n",
    "    return HTML(data='''<center><video controls loop>\n",
    "                        <source src=\"data:video/mp4;base64,{0}\" type=\"video/mp4\" />\n",
    "                     </video></center>'''.format(encoded.decode('ascii')))"
   ]
  },
  {
   "cell_type": "markdown",
   "metadata": {
    "slideshow": {
     "slide_type": "skip"
    }
   },
   "source": [
    "## What is an axial-flow turbine?\n",
    "\n",
    "<center>\n",
    "<img width=\"56%\" src=\"figures/Vestas-V100.PNG\">\n",
    "<p class=citation>Courtesy of Vestas Wind Systems A/S.</p>\n",
    "</center>"
   ]
  },
  {
   "cell_type": "markdown",
   "metadata": {
    "slideshow": {
     "slide_type": "slide"
    }
   },
   "source": [
    "## What is a cross-flow turbine?\n",
    "\n",
    "<figure style=\"float: right\">\n",
    "<img width=\"340px\" src=\"figures/hawt-vawt-combined.svg\">\n",
    "</figure>\n",
    "\n",
    "* Axis perpendicular to flow\n",
    "* Some success in onshore wind\n",
    "* Surpassed by HAWTs (AFTs) &#8594;\n",
    "  * Exaggerated power ratings\n",
    "  * Fatigue issues\n",
    "\n",
    "<figure style=\"text-align: left\">\n",
    "<img width=\"60%\" src=figures/flowind.jpg>\n",
    "</figure>\n",
    "\n",
    "<p class=citation>\n",
    "Left: Photo by Paul Gipe. All rights reserved. Upper right: Courtesy of Vestas Wind Systems A/S.\n",
    "Lower right: From Murray and Barone (2011).\n",
    "</p>"
   ]
  },
  {
   "cell_type": "markdown",
   "metadata": {
    "slideshow": {
     "slide_type": "subslide"
    }
   },
   "source": [
    "## Marine hydrokinetics: ORPC\n",
    "\n",
    "<center>\n",
    "<h4>TidGen, Cobscook Bay, ME:</h4>\n",
    "<img width=60% src=figures/orpc.jpg>\n",
    "</center>\n",
    "\n",
    "<center>\n",
    "<h4>RivGen, Igiugig, AK:</h4>\n",
    "<img width=60% src=figures/orpc-rivgen.jpg>\n",
    "<p class=\"citation\">\n",
    "From orpc.co.\n",
    "</center>\n"
   ]
  },
  {
   "cell_type": "markdown",
   "metadata": {
    "slideshow": {
     "slide_type": "notes"
    }
   },
   "source": [
    "* Higher solidity $Nc/(\\pi D)$ or $c/R$ than Darrieus VAWTs due to order of magnitude higher torque.\n",
    "* Imagine how many axial-flow rotors it would take to fit in there"
   ]
  },
  {
   "cell_type": "markdown",
   "metadata": {
    "slideshow": {
     "slide_type": "subslide"
    }
   },
   "source": [
    "## Wind turbine arrays: Caltech FLOWE\n",
    "\n",
    "Closely spaced VAWTs may achieve higher power output per unit land area compared to HAWTs. Note the rotors shown here are also high solidity.\n",
    "\n",
    "<center>\n",
    "<img padding-top=\"0px\" width=70% src=figures/caltech-flowe.jpg>\n",
    "<p class=citation>\n",
    "From flowe.caltech.edu.\n",
    "</center>"
   ]
  },
  {
   "cell_type": "markdown",
   "metadata": {
    "slideshow": {
     "slide_type": "subslide"
    }
   },
   "source": [
    "## Blade element theory"
   ]
  },
  {
   "cell_type": "markdown",
   "metadata": {},
   "source": [
    "Assume kinematics and dynamics act on blade section at one point."
   ]
  },
  {
   "cell_type": "code",
   "execution_count": null,
   "metadata": {
    "collapsed": false
   },
   "outputs": [],
   "source": [
    "import warnings\n",
    "warnings.filterwarnings(\"ignore\")\n",
    "os.chdir(os.path.join(os.path.expanduser(\"~\"), \"Google Drive\", \"Research\", \"CFT-vectors\"))\n",
    "import cft_vectors\n",
    "fig, ax = plt.subplots(figsize=(15, 15))\n",
    "fontsize = plt.rcParams[\"font.size\"]\n",
    "with plt.rc_context({\"font.size\": 1.5*fontsize}):\n",
    "    cft_vectors.plot_diagram(fig, ax, theta_deg=52, axis=\"off\", label=True)\n",
    "os.chdir(talk_dir)"
   ]
  },
  {
   "cell_type": "markdown",
   "metadata": {
    "collapsed": false,
    "slideshow": {
     "slide_type": "subslide"
    }
   },
   "source": [
    "## Blade element theory\n",
    "\n",
    "<center>\n",
    "<video width=100% controls loop autoplay>\n",
    "  <source src=\"videos/cft-animation.mp4\" type=\"video/mp4\">\n",
    "Your browser does not support the video tag.\n",
    "</video>\n",
    "</center>\n",
    "\n",
    "In an idealized case, CFT is unsteady, often $\\alpha_\\max \\gt \\alpha_{\\mathrm{ss}}$. Not so for AFT.\n",
    "\n",
    "<!--\n",
    "embed_video(\"C:/Users/Pete/Google Drive/Research/CFT-vectors/videos/cft-animation.mp4\")\n",
    "-->"
   ]
  },
  {
   "cell_type": "markdown",
   "metadata": {
    "slideshow": {
     "slide_type": "notes"
    }
   },
   "source": [
    "Unsteadiness is more dramatic for higher c/R."
   ]
  },
  {
   "cell_type": "markdown",
   "metadata": {
    "slideshow": {
     "slide_type": "subslide"
    }
   },
   "source": [
    "## Quantifying unsteadiness\n",
    "\n",
    "Reduced frequency:\n",
    "\n",
    "$$\n",
    "k = \\frac{\\omega c}{2 U_\\infty} = \\frac{\\lambda c}{2R}\n",
    "$$\n",
    "\n",
    "$$\n",
    "\\lambda = \\frac{\\omega R}{U_\\infty}\n",
    "$$\n",
    "\n",
    "Unsteady effects significant for $k > 0.05$, dominant for $k \\ge 0.2$ [1].\n",
    "\n",
    "| Rotor | $ c/R $ | $\\lambda$ | $k$ |\n",
    "|-------|-------|-----------|-----|\n",
    "| Sandia 34 m Darrieus | 0.05 | 6 | 0.16 |\n",
    "| Hypothetical MHK | 0.25 | 2 | 0.25 |\n",
    "\n",
    "MHK rotor blades see approximately one order of magnitude higher torque vs. wind.\n",
    "\n",
    "<p class=\"citation\">\n",
    "[1] Leishman (2006) \"Principles of Helicopter Aerodynamics\", Cambridge.\n",
    "</p>\n"
   ]
  },
  {
   "cell_type": "markdown",
   "metadata": {
    "slideshow": {
     "slide_type": "subslide"
    }
   },
   "source": [
    "## Research objectives\n",
    "\n",
    "1. Produce model validation datasets for higher solidity CFTs\n",
    "2. Investigate near-wake, especially recovery\n",
    "  * Relevant to array design\n",
    "3. Evaluate Navier–Stokes based models (blade-resolved and parameterized) for predicting performance and wake characteristics\n",
    "  * Lower fidelity models fail for higher $c/R$\n",
    "  * Computing power has advanced tremendously since the Darrieus VAWT R&D"
   ]
  },
  {
   "cell_type": "markdown",
   "metadata": {
    "slideshow": {
     "slide_type": "slide"
    }
   },
   "source": [
    "## Turbine test bed\n",
    "\n",
    "Automated turbine testing in the UNH tow tank\n",
    "\n",
    "<center>\n",
    "<img width=80% src=\"figures/turbine-test-bed-photo.png\">\n",
    "</center>"
   ]
  },
  {
   "cell_type": "markdown",
   "metadata": {
    "slideshow": {
     "slide_type": "skip"
    }
   },
   "source": [
    "## UNH tow tank upgrades\n",
    "\n",
    "* Redesigned broken linear guide system\n",
    "* Added closed-loop position and velocity control (servo, belt drive)\n",
    "    * Improved acceleration by an order of magnitude\n",
    "* Network-based DAQ\n",
    "* On-board power and networking for turbine test bed\n",
    "* Multi-axis motion control"
   ]
  },
  {
   "cell_type": "markdown",
   "metadata": {
    "slideshow": {
     "slide_type": "subslide"
    }
   },
   "source": [
    "## Test bed instrumentation\n",
    "\n",
    "<center>\n",
    "<img width=80% src=figures/converted/turbine-test-bed-drawing.png>\n",
    "</center>"
   ]
  },
  {
   "cell_type": "markdown",
   "metadata": {
    "slideshow": {
     "slide_type": "subslide"
    }
   },
   "source": [
    "## Wake measurement instrumentation\n",
    "\n",
    "* Nortek Vectrino+ acoustic Doppler velocimeter (ADV)\n",
    "* $y$–$z$ traversing carriage with motion control integration\n",
    "\n",
    "<center>\n",
    "<img width=70% src=\"figures/traverse_alone.jpg\">\n",
    "</center>"
   ]
  },
  {
   "cell_type": "markdown",
   "metadata": {
    "slideshow": {
     "slide_type": "subslide"
    }
   },
   "source": [
    "## Automation\n",
    "<!--\n",
    "Increased number of tows per experiment by order of magnitude.\n",
    "-->\n",
    "\n",
    "<center>\n",
    "<img width=68% src=\"figures/TurbineDAQ.PNG\">\n",
    "</center>"
   ]
  },
  {
   "cell_type": "markdown",
   "metadata": {
    "slideshow": {
     "slide_type": "subslide"
    }
   },
   "source": [
    "## Operation\n",
    "\n",
    "<center>\n",
    "<video width=100% controls loop>\n",
    "  <source src=\"videos/rm2-low-tsr-tow-edited.mp4\" type=\"video/mp4\">\n",
    "Your browser does not support the video tag.\n",
    "</video>\n",
    "</center>"
   ]
  },
  {
   "cell_type": "markdown",
   "metadata": {
    "slideshow": {
     "slide_type": "slide"
    }
   },
   "source": [
    "## UNH-RVAT baseline experiments\n",
    "\n",
    "<img width=43% align=\"right\" class=\"float-right\" src=\"figures/rvat-cad-no-hubs.PNG\">\n",
    "\n",
    "* Simple geometry\n",
    "* NACA 0020 foils\n",
    "* High solidity $c/R = 0.28$\n",
    "* $U_\\infty = 1$ m/s\n",
    "* Characterize performance\n",
    "* Near-wake dynamics\n",
    "* Open dataset\n",
    "\n",
    "<p class=\"citation\">\n",
    "Bachant, P., and Wosnik, M. (2015) \"Characterising the near-wake of a cross-flow turbine\", Journal of Turbulence, 16, 392–410.\n",
    "</p>\n",
    "\n",
    "<p class=\"citation\">\n",
    "Bachant, P., and Wosnik, M. (2014) \"UNH-RVAT baseline performance and near-wake measurements: Reduced dataset and processing code\", Figshare, DOI: <a href=\"http://doi.org/10.6084/m9.figshare.1080781\">10.6084/m9.figshare.1080781</a>.\n",
    "</p>"
   ]
  },
  {
   "cell_type": "markdown",
   "metadata": {
    "slideshow": {
     "slide_type": "subslide"
    }
   },
   "source": [
    "## UNH-RVAT baseline performance\n",
    "\n",
    "<!--\n",
    "<center>\n",
    "<img src=\"figures/test.png\" width=80%>\n",
    "</center>\n",
    "-->"
   ]
  },
  {
   "cell_type": "code",
   "execution_count": null,
   "metadata": {
    "collapsed": false
   },
   "outputs": [],
   "source": [
    "# Generate figures from the experiments by their own methods\n",
    "\n",
    "os.chdir(\"C:/Users/Pete/Research/Experiments/RVAT baseline\")\n",
    "import pyrvatbl.plotting as rvat_baseline\n",
    "\n",
    "fig, (ax1, ax2) = plt.subplots(figsize=(15, 6), nrows=1, ncols=2)\n",
    "rvat_baseline.plot_cp(ax1)\n",
    "rvat_baseline.plot_cd(ax2, color=sns.color_palette()[2])\n",
    "fig.tight_layout()\n",
    "os.chdir(talk_dir)"
   ]
  },
  {
   "cell_type": "markdown",
   "metadata": {},
   "source": [
    "<center>\n",
    "$\\lambda = \\frac{\\omega R}{U_\\infty}$\n",
    "&nbsp; &nbsp; &nbsp; &nbsp;\n",
    "$C_P = \\frac{P_\\mathrm{mech}}{\\frac{1}{2}\\rho A_\\mathrm{f} U_\\infty^3}$\n",
    "&nbsp; &nbsp; &nbsp; &nbsp;\n",
    "$C_D = \\frac{F_\\mathrm{drag}}{\\frac{1}{2}\\rho A_\\mathrm{f} U_\\infty^2}$\n",
    "</center>\n",
    "\n",
    "Note: Overall rotor drag (sometimes called thrust) coefficient $C_D$ is different from blade element drag coefficient $C_d$."
   ]
  },
  {
   "cell_type": "markdown",
   "metadata": {
    "slideshow": {
     "slide_type": "subslide"
    }
   },
   "source": [
    "## Baseline wake measurements $(x/D=1)$\n",
    "\n",
    "<center>\n",
    "<img width=80% src=\"figures/converted/unh-rvat-coord-sys.png\">\n",
    "</center>\n"
   ]
  },
  {
   "cell_type": "markdown",
   "metadata": {
    "slideshow": {
     "slide_type": "subslide"
    }
   },
   "source": [
    "## UNH-RVAT baseline wake characteristics\n",
    "\n",
    "<center>\n",
    "<img width=\"85%\" src=\"figures/converted/RVAT-baseline_meancontquiv.png\">\n",
    "</center>\n",
    "\n",
    "<center>\n",
    "<img width=\"80%\" src=\"figures/converted/RVAT-baseline_kcont.png\">\n",
    "</center>"
   ]
  },
  {
   "cell_type": "markdown",
   "metadata": {},
   "source": [
    "Unique mean \"doublet\" flow created by blade tip vortices inducing vertical velocity towards $x$–$y$ center plane."
   ]
  },
  {
   "cell_type": "markdown",
   "metadata": {
    "slideshow": {
     "slide_type": "notes"
    }
   },
   "source": [
    "One might guess this mean vertical velocity is important, since for an AFT you have a uniform swirl,\n",
    "but we want to compare to the turbulence."
   ]
  },
  {
   "cell_type": "markdown",
   "metadata": {
    "slideshow": {
     "slide_type": "subslide"
    }
   },
   "source": [
    "## Mean momentum transport\n",
    "\n",
    "Rearrange RANS to isolate streamwise partial derivative:\n",
    "\n",
    "$$\n",
    "\\begin{split}\n",
    "\\frac{\\partial U}{\\partial x}  =  \n",
    "\\frac{1}{U} \\bigg{[}\n",
    "& - V\\frac{\\partial U}{\\partial y}\n",
    "- W\\frac{\\partial U}{\\partial z} \\\\\n",
    "& -\\frac{1}{\\rho}\\frac{\\partial P}{\\partial x} \\\\\n",
    "& - \\frac{\\partial}{\\partial x} \\overline{u'u'}\n",
    "- \\frac{\\partial}{\\partial y} \\overline{u'v'}\n",
    "- \\frac{\\partial}{\\partial z} \\overline{u'w'} \\\\\n",
    "& + \\nu\\left(\\frac{\\partial^2 U}{\\partial x^2}\n",
    "+ \\frac{\\partial^2 U}{\\partial y^2}\n",
    "+ \\frac{\\partial^2 U}{\\partial z^2} \\right)\n",
    "\\bigg{]}\n",
    "\\end{split}\n",
    "$$"
   ]
  },
  {
   "cell_type": "markdown",
   "metadata": {
    "slideshow": {
     "slide_type": "skip"
    }
   },
   "source": [
    "## Mean kinetic energy transport\n",
    "\n",
    "$$\n",
    "\\begin{split}\n",
    "\\frac{\\partial K}{\\partial x}\n",
    "=\n",
    "\\frac{1}{U}\n",
    "\\bigg{[}\n",
    "& - \\underbrace{V \\frac{\\partial K}{\\partial y}}_{y\\text{-adv.}}\n",
    "- \\underbrace{W \\frac{\\partial K}{\\partial z}}_{z\\text{-adv.}}\n",
    "% Pressure work:\n",
    "- \\frac{1}{\\rho}\\frac{\\partial}{\\partial x_j} P U_i \\delta_{ij}\n",
    "% Work by viscous forces\n",
    "+ \\frac{\\partial}{\\partial x_j} 2 \\nu U_i S_{ij} \\\\ % Not sure if that's capital S...\n",
    "% Turbulent transport of K\n",
    "& - \\underbrace{\n",
    "\\frac{1}{2}\\frac{\\partial}{\\partial x_j} \\overline{u_i' u_j'} U_i\n",
    "}_{\\text{Turb. trans.}}\n",
    "% Production of k \n",
    "+ \\underbrace{\n",
    "\\overline{u_i' u_j'} \\frac{\\partial U_i}{\\partial x_j}\n",
    "}_{k\\text{-prod.}}\n",
    "% Mean dissipation? Bar could be removed, or no? -- yes, capital letter, no bar.\n",
    "- \n",
    "\\underbrace{\n",
    "2 \\nu S_{ij}S_{ij}\n",
    "}_{\\text{Mean diss.}}\n",
    "\\bigg{]}.\n",
    "\\end{split}\n",
    "$$"
   ]
  },
  {
   "cell_type": "markdown",
   "metadata": {
    "slideshow": {
     "slide_type": "subslide"
    }
   },
   "source": [
    "## Mean momentum transport\n",
    "\n",
    "Weighted averages at $x/D=1$:"
   ]
  },
  {
   "cell_type": "code",
   "execution_count": null,
   "metadata": {
    "collapsed": false,
    "slideshow": {
     "slide_type": "-"
    }
   },
   "outputs": [],
   "source": [
    "os.chdir(\"C:/Users/Pete/Research/Experiments/RVAT baseline\")\n",
    "import pyrvatbl.plotting as rvat_baseline\n",
    "\n",
    "rvat_baseline.plotwake(\"mombargraph\", scale=1.8, barcolor=None)\n",
    "plt.grid(True)"
   ]
  },
  {
   "cell_type": "markdown",
   "metadata": {},
   "source": [
    "Mean advection in AFT wake due to axisymmetric swirl would cancel itself out."
   ]
  },
  {
   "cell_type": "code",
   "execution_count": null,
   "metadata": {
    "collapsed": false,
    "slideshow": {
     "slide_type": "skip"
    }
   },
   "outputs": [],
   "source": [
    "os.chdir(\"C:/Users/Pete/Research/Experiments/RVAT baseline\")\n",
    "import pyrvatbl.plotting as rvat_baseline\n",
    "\n",
    "rvat_baseline.plotwake(\"Kbargraph\", scale=1.8, barcolor=sns.color_palette()[1])\n",
    "plt.grid(True)"
   ]
  },
  {
   "cell_type": "markdown",
   "metadata": {
    "slideshow": {
     "slide_type": "slide"
    }
   },
   "source": [
    "## UNH-RVAT Reynolds number dependence\n",
    "\n",
    "Are our results relevant to full scale?\n",
    "\n",
    "$$\n",
    "Re_l = \\frac{Ul}{\\nu}\n",
    "$$\n",
    "\n",
    "How inexpensive (small, slow) can experiments get?\n",
    "\n",
    "<p class=\"citation\">\n",
    "Bachant, P., and Wosnik, M. (2016) \"Effects of Reynolds Number on the Energy Conversion and Near-Wake Dynamics of a High Solidity Vertical-Axis Cross-Flow Turbine\", Energies, 9.\n",
    "</p>\n",
    "\n",
    "<p class=\"citation\">\n",
    "Bachant, P., and Wosnik, M. (2016) \"UNH-RVAT Reynolds number dependence experiment: Reduced dataset and processing code\", Figshare, DOI: <a href=\"http://doi.org/10.6084/m9.figshare.1286960\">10.6084/m9.figshare.1286960</a>.\n",
    "</p>"
   ]
  },
  {
   "cell_type": "markdown",
   "metadata": {
    "slideshow": {
     "slide_type": "subslide"
    }
   },
   "source": [
    "## UNH-RVAT Reynolds number dependence"
   ]
  },
  {
   "cell_type": "code",
   "execution_count": null,
   "metadata": {
    "collapsed": false,
    "scrolled": true,
    "slideshow": {
     "slide_type": "-"
    }
   },
   "outputs": [],
   "source": [
    "os.chdir(rvat_re_dep_dir)\n",
    "import pyrvatrd.plotting as rvat_re_dep\n",
    "\n",
    "fig, (ax1, ax2) = plt.subplots(figsize=(16, 6.5), nrows=1, ncols=2)\n",
    "rvat_re_dep.plot_perf_curves(ax1, ax2)\n",
    "fig.tight_layout()\n",
    "os.chdir(talk_dir)"
   ]
  },
  {
   "cell_type": "markdown",
   "metadata": {},
   "source": [
    "Note effects of stall delay at lower $\\lambda$, where angle of attack amplitude is greater."
   ]
  },
  {
   "cell_type": "markdown",
   "metadata": {
    "slideshow": {
     "slide_type": "subslide"
    }
   },
   "source": [
    "## Reynolds number dependence at $\\lambda = 1.9$"
   ]
  },
  {
   "cell_type": "code",
   "execution_count": null,
   "metadata": {
    "collapsed": false
   },
   "outputs": [],
   "source": [
    "os.chdir(rvat_re_dep_dir)\n",
    "import pyrvatrd.plotting as rvat_re_dep\n",
    "\n",
    "fontsize = plt.rcParams[\"font.size\"]\n",
    "\n",
    "with plt.rc_context({\"axes.formatter.use_mathtext\": True, \"font.size\": fontsize*1.65/1.5}):\n",
    "    fig, (ax1, ax2) = plt.subplots(figsize=(14, 6), nrows=1, ncols=2)\n",
    "    rvat_re_dep.plot_perf_re_dep(ax1, ax2, errorbars=True, label_subplots=False)\n",
    "    fig.tight_layout()\n",
    "    \n",
    "os.chdir(talk_dir)"
   ]
  },
  {
   "cell_type": "markdown",
   "metadata": {
    "slideshow": {
     "slide_type": "-"
    }
   },
   "source": [
    "$$\n",
    "Re_{c,\\mathrm{ave}} = \\lambda U_\\infty c / \\nu\n",
    "$$\n",
    "\n",
    "Threshold corresponds to blade boundary layer transition to turbulence, which delays separation to higher angles of attack.\n",
    "\n",
    "$$\n",
    "Fr = \\frac{U_\\infty}{\\sqrt{gh_{\\mathrm{tip}}}} = 0.1 \\text{ to } 0.5\n",
    "$$"
   ]
  },
  {
   "cell_type": "markdown",
   "metadata": {
    "slideshow": {
     "slide_type": "skip"
    }
   },
   "source": [
    "## Blade boundary layer dynamics\n",
    "\n",
    "<center>\n",
    "<img src=\"figures/McMasters-Henderson-1980.PNG\" width=70%>\n",
    "\n",
    "<p class=\"citation\">From McMasters and Henderson (1980)</p>\n",
    "</center>\n"
   ]
  },
  {
   "cell_type": "markdown",
   "metadata": {
    "slideshow": {
     "slide_type": "skip"
    }
   },
   "source": [
    "## Wake transport"
   ]
  },
  {
   "cell_type": "code",
   "execution_count": null,
   "metadata": {
    "collapsed": true,
    "slideshow": {
     "slide_type": "skip"
    }
   },
   "outputs": [],
   "source": [
    "os.chdir(rvat_re_dep_dir)\n",
    "import pyrvatrd.plotting as rvat_re_dep\n",
    "\n",
    "fig, ax = plt.subplots(figsize=(13, 7))\n",
    "rvat_re_dep.make_mom_bar_graph(ax, print_analysis=False)\n",
    "fig.tight_layout()"
   ]
  },
  {
   "cell_type": "markdown",
   "metadata": {
    "slideshow": {
     "slide_type": "subslide"
    }
   },
   "source": [
    "## Wake transport totals"
   ]
  },
  {
   "cell_type": "code",
   "execution_count": null,
   "metadata": {
    "collapsed": true
   },
   "outputs": [],
   "source": [
    "os.chdir(rvat_re_dep_dir)\n",
    "import pyrvatrd.plotting as rvat_re_dep\n",
    "\n",
    "fig, ax = plt.subplots()\n",
    "with plt.rc_context({\"axes.formatter.use_mathtext\": True}):\n",
    "    rvat_re_dep.plot_wake_trans_totals(ax)\n",
    "fig.tight_layout()"
   ]
  },
  {
   "cell_type": "markdown",
   "metadata": {},
   "source": [
    "Similar threshold $Re$ as for $C_P$ &#8594; Low $Re$ physical model array studies may overpredict power of downstream turbines"
   ]
  },
  {
   "cell_type": "markdown",
   "metadata": {
    "slideshow": {
     "slide_type": "slide"
    }
   },
   "source": [
    "## DOE/SNL Reference Model 2 (RM2) experiments\n",
    "\n",
    "<p class=\"citation\">\n",
    "DOE Reference Models: Open designs for standardized development and validation\n",
    "</p>\n",
    "\n",
    "Measured performance, $Re$-dependence, near-wake, strut drag, with 1:6 scale tapered-H rotor: NACA 0021 profiles, $c/R = 0.07$–$0.12$\n",
    "\n",
    "<center>\n",
    "<img width=85% src=\"figures/rm2-dwg-and-pic.PNG\">\n",
    "</center>\n",
    "\n",
    "Unique geometry for testing predictive robustness\n",
    "\n",
    "<p class=\"citation\">\n",
    "Bachant, P., Gunawan, B., Wosnik, M., and Neary, V.S. (2016) \"UNH RM2 tow tank experiment: Reduced dataset and processing code\", Figshare, DOI: <a href=\"http://doi.org/10.6084/m9.figshare.1373899\">10.6084/m9.figshare.1373899</a>.\n",
    "</p>"
   ]
  },
  {
   "cell_type": "markdown",
   "metadata": {
    "slideshow": {
     "slide_type": "notes"
    }
   },
   "source": [
    "* Give background on RM2 project\n",
    "* State blade profile"
   ]
  },
  {
   "cell_type": "markdown",
   "metadata": {
    "slideshow": {
     "slide_type": "subslide"
    }
   },
   "source": [
    "## RM2 performance curves\n",
    "\n",
    "<center>\n",
    "<img width=\"80%\" src=\"figures/converted/RM2-tow-tank_cp_curves.png\">\n",
    "</center>\n",
    "\n",
    "Higher peak $C_P = 0.37$ vs. UNH-RVAT's $0.26$."
   ]
  },
  {
   "cell_type": "markdown",
   "metadata": {
    "slideshow": {
     "slide_type": "subslide"
    }
   },
   "source": [
    "## RM2 performance $Re$-dependence at $\\lambda = 3.1$\n",
    "\n",
    "<center>\n",
    "<img width=\"90%\" src=\"figures/converted/RM2-tow-tank_perf_re_dep.png\">\n",
    "</center>\n",
    "\n",
    "Retains weak $Re$-dependence &#8594; lower $c/R$ or virtual camber\n"
   ]
  },
  {
   "cell_type": "markdown",
   "metadata": {
    "slideshow": {
     "slide_type": "skip"
    }
   },
   "source": [
    "## RM2 strut drag effects\n",
    "\n",
    "<center>\n",
    "<img width=\"80%\" src=\"figures/converted/RM2-strut-covers.png\">\n",
    "</center>\n"
   ]
  },
  {
   "cell_type": "markdown",
   "metadata": {
    "slideshow": {
     "slide_type": "skip"
    }
   },
   "source": [
    "## RM2 strut drag effects\n",
    "\n",
    "<center>\n",
    "<img width=\"80%\" src=\"figures/converted/RM2-tow-tank_perf_covers.png\">\n",
    "</center>\n"
   ]
  },
  {
   "cell_type": "markdown",
   "metadata": {
    "slideshow": {
     "slide_type": "skip"
    }
   },
   "source": [
    "## RM2 strut drag effects\n",
    "\n",
    "NACA 0021 (a) vs. cylindrical (b):\n",
    "\n",
    "<center>\n",
    "<img width=\"80%\" src=\"figures/converted/RM2-tow-tank_no_blades_all.png\">\n",
    "</center>\n",
    "\n",
    "Additional ~10 point loss in $C_P$ not accounted for."
   ]
  },
  {
   "cell_type": "markdown",
   "metadata": {
    "slideshow": {
     "slide_type": "subslide"
    }
   },
   "source": [
    "## RM2 near-wake \n",
    "\n",
    "### $Re_D = 1.1 \\times 10^6$, $x/D=0.93$, $\\lambda=3.1$\n",
    "\n",
    "<center>\n",
    "<img width=\"85%\" src=\"figures/converted/RM2-tow-tank_meancontquiv.png\">\n",
    "</center>\n",
    "\n",
    "<center>\n",
    "<img width=\"77%\" src=\"figures/converted/RM2-tow-tank_k_contours.png\">\n",
    "</center>\n",
    "\n",
    "Similar wake recovery proportions, but lower overall compared to UNH-RVAT &#8594; potential trade-off vs. higher $C_P$"
   ]
  },
  {
   "cell_type": "markdown",
   "metadata": {
    "slideshow": {
     "slide_type": "skip"
    }
   },
   "source": [
    "## RM2 streamwise momentum recovery"
   ]
  },
  {
   "cell_type": "code",
   "execution_count": null,
   "metadata": {
    "collapsed": true,
    "slideshow": {
     "slide_type": "skip"
    }
   },
   "outputs": [],
   "source": [
    "os.chdir(rm2_tow_tank_dir)\n",
    "import pyrm2tt.plotting as rm2_tow_tank\n",
    "wm = rm2_tow_tank.WakeMap()\n",
    "fig, ax = plt.subplots(figsize=(14, 6))\n",
    "wm.make_mom_bar_graph(ax=ax, color=None, edgecolor=None)\n",
    "os.chdir(talk_dir)"
   ]
  },
  {
   "cell_type": "markdown",
   "metadata": {
    "slideshow": {
     "slide_type": "skip"
    }
   },
   "source": [
    "## Numerical modeling\n",
    "\n",
    "* Experiments are expensive\n",
    "* Can be difficult to modify, e.g., turbine geometry\n",
    "* Scaling issues\n",
    "* Can we compute instead?\n",
    "* Blade-resolved RANS becoming feasible\n",
    "  * Effectiveness not certain"
   ]
  },
  {
   "cell_type": "markdown",
   "metadata": {
    "slideshow": {
     "slide_type": "skip"
    }
   },
   "source": [
    "## Techniques\n",
    "\n",
    "* **Blade element methods:** Use section characteristics to predict loading\n",
    "  * Momentum: Very cheap, issues with high solidity, very little flow information\n",
    "  * Vortex (potential flow): Cheap, also issues with high solidity, no turbulence\n",
    "* **Navier–Stokes:** Turbulence modeled via RANS or LES (no DNS possible at this $Re$, yet)\n",
    "  * Highest cost"
   ]
  },
  {
   "cell_type": "markdown",
   "metadata": {
    "slideshow": {
     "slide_type": "slide"
    }
   },
   "source": [
    "## UNH-RVAT blade-resolved RANS\n",
    "\n",
    "<div>\n",
    "<ul>\n",
    "<li>Simulate baseline with OpenFOAM</li>\n",
    "<img width=\"65%\" style=\"float: right\" src=\"figures/3D_vorticity_SA_964_10-threshold.png\"/>\n",
    "<li>Need to resolve the boundary layer</li>\n",
    "  <ul>\n",
    "  <li>Separation</li>\n",
    "  <li>Transition?</li>\n",
    "  </ul>\n",
    "<li>Turbulence models (eddy viscosity)</li>\n",
    "  <ul>\n",
    "  <li>$k$–$\\omega$ SST</li>\n",
    "  <li>Spalart–Allmaras</li>\n",
    "  </ul>\n",
    "<li>2-D: $\\sim 0.1$ CPU hours per simulated second</li>\n",
    "<li>3-D: $\\sim 10^3$ CPU hours per simulated second</li>\n",
    "  <ul>\n",
    "  <li>HPC required: significant investment</li>\n",
    "  <li>192 cores on SNL Red Mesa cluster</li>\n",
    "  </ul>\n",
    "</ul>\n",
    "\n",
    "</div>"
   ]
  },
  {
   "cell_type": "markdown",
   "metadata": {
    "slideshow": {
     "slide_type": "notes"
    }
   },
   "source": [
    "Cluster may cost about the same as a physical model experiment!"
   ]
  },
  {
   "cell_type": "markdown",
   "metadata": {
    "slideshow": {
     "slide_type": "subslide"
    }
   },
   "source": [
    "## Mesh topology overview\n",
    "\n",
    "<center>\n",
    "<img width=65% src=\"figures/BR-CFD_2D_mesh.png\">\n",
    "</center>"
   ]
  },
  {
   "cell_type": "markdown",
   "metadata": {
    "slideshow": {
     "slide_type": "subslide"
    }
   },
   "source": [
    "## Near-wall blade mesh\n",
    "\n",
    "<center>\n",
    "<img width=60% src=\"figures/BR-CFD_2D_blade_mesh_closeup.png\">\n",
    "</center>\n",
    "\n",
    "$$\n",
    "y^+ = u^* y / \\nu \\sim 1\n",
    "$$\n",
    "\n",
    "$$\n",
    "u^*=\\sqrt{\\tau_w / \\rho}\n",
    "$$\n"
   ]
  },
  {
   "cell_type": "markdown",
   "metadata": {
    "slideshow": {
     "slide_type": "subslide"
    }
   },
   "source": [
    "## Verification (2-D)\n",
    "\n",
    "<center>\n",
    "<img width=90%, src=\"figures/converted/BR-CFD_verification.png\">\n",
    "</center>\n",
    "\n",
    "Spalart–Allmaras model showed more well-behaved grid convergence. Relative minimum chosen for SST $\\Delta t$. $N_x = 70$ chosen for both models."
   ]
  },
  {
   "cell_type": "markdown",
   "metadata": {
    "slideshow": {
     "slide_type": "subslide"
    }
   },
   "source": [
    "## Performance predictions\n",
    "\n",
    "<center>\n",
    "<img width=90%, src=\"figures/converted/BR-CFD_perf_bar_chart.png\">\n",
    "</center>\n",
    "\n",
    "Overprediction by 2-D simulations consistent with the literature. "
   ]
  },
  {
   "cell_type": "markdown",
   "metadata": {
    "slideshow": {
     "slide_type": "subslide"
    }
   },
   "source": [
    "## Near-wake mean velocity\n",
    "\n",
    "<center>\n",
    "<h4 style=\"margin-top: 0\">3-D Spalart–Allmaras</h4>\n",
    "<img width=65%, src=\"figures/converted/BR-CFD_meancontquiv_SpalartAllmaras.png\">\n",
    "</center>\n",
    "\n",
    "<center>\n",
    "<h4 style=\"padding-right: 15px; margin-top: 0\">Experiment</h4>\n",
    "<img width=67%, style=\"padding-left: 5px\", src=\"figures/converted/RVAT-baseline_meancontquiv.png\">\n",
    "</center>"
   ]
  },
  {
   "cell_type": "markdown",
   "metadata": {
    "slideshow": {
     "slide_type": "subslide"
    }
   },
   "source": [
    "## Near-wake mean velocity\n",
    "\n",
    "<center>\n",
    "<h4 style=\"margin-top: 0\">3-D SST</h4>\n",
    "<img width=65%, src=\"figures/converted/BR-CFD_meancontquiv_kOmegaSST.png\">\n",
    "</center>\n",
    "\n",
    "<center>\n",
    "<h4 style=\"padding-right: 15px; margin-top: 0\">Experiment</h4>\n",
    "<img width=67%, style=\"padding-left: 5px\", src=\"figures/converted/RVAT-baseline_meancontquiv.png\">\n",
    "</center>"
   ]
  },
  {
   "cell_type": "markdown",
   "metadata": {
    "slideshow": {
     "slide_type": "skip"
    }
   },
   "source": [
    "## Near-wake TKE (3-D)\n",
    "\n",
    "<center>\n",
    "<h4>Spalart–Allmaras</h4>\n",
    "<img width=70%, src=\"figures/converted/BR-CFD_kcont_SpalartAllmaras.png\">\n",
    "</center>\n",
    "\n",
    "<center>\n",
    "<h4>SST</h4>\n",
    "<img width=70%, src=\"figures/converted/BR-CFD_kcont_kOmegaSST.png\">\n",
    "</center>\n",
    "\n",
    "<center>\n",
    "<h4>Experiment</h4>\n",
    "<img width=70%, src=\"figures/converted/RVAT-baseline_kcont.png\">\n",
    "</center>"
   ]
  },
  {
   "cell_type": "markdown",
   "metadata": {
    "slideshow": {
     "slide_type": "subslide"
    }
   },
   "source": [
    "## Near-wake momentum transport\n",
    "\n",
    "<center>\n",
    "<img width=90%, src=\"figures/converted/BR-CFD_mom_bar_graph.png\">\n",
    "</center>\n",
    "\n",
    "Weighted sums for CFD computed over entire domain at $x/D=1$"
   ]
  },
  {
   "cell_type": "markdown",
   "metadata": {
    "slideshow": {
     "slide_type": "skip"
    }
   },
   "source": [
    "## Summary: Blade-resolved CFD\n",
    "\n",
    "* 2-D feasible but poor predictor of performance and wake\n",
    "* 3-D _may_ be good for single turbine, but too expensive for arrays"
   ]
  },
  {
   "cell_type": "markdown",
   "metadata": {
    "slideshow": {
     "slide_type": "slide"
    }
   },
   "source": [
    "## Actuator line modeling\n",
    "\n",
    "* Developed by Sorensen and Shen (2002)\n",
    "* Blade element method coupled with Navier–Stokes\n",
    "* Save computational resources\n",
    "  * No finely resolved blade boundary layers\n",
    "  * No complicated meshing\n",
    "  * No mesh motion\n",
    "* Current state-of-the-art for HAWT array modeling\n",
    "* Has only been investigated with LES for a 2-D low-$Re$ CFT by Shamsoddin and Porte-Agel (2014)\n",
    "  * No performance predictions reported\n",
    "  * Closed source"
   ]
  },
  {
   "cell_type": "markdown",
   "metadata": {
    "slideshow": {
     "slide_type": "subslide"
    }
   },
   "source": [
    "## ALM blade element discretization\n",
    "\n",
    "\n",
    "<center>\n",
    "<img width=80% src=figures/converted/alm-geometry.png>\n",
    "</center>\n"
   ]
  },
  {
   "cell_type": "markdown",
   "metadata": {
    "slideshow": {
     "slide_type": "subslide"
    }
   },
   "source": [
    "## Computing blade loading\n",
    "\n",
    "Inflow velocity from Navier–Stokes solver rather than via simple momentum, potential flow (vortex method).\n",
    "\n",
    "$$\n",
    "F_l = \\frac{1}{2} \\rho A_p C_l | U_{\\mathrm{rel}} |^2 \n",
    "\\, \\, \\, \\, \\, \\, \\, \\, \\,\n",
    "F_d = \\frac{1}{2} \\rho A_p C_d | U_{\\mathrm{rel}} |^2\n",
    "$$"
   ]
  },
  {
   "cell_type": "code",
   "execution_count": null,
   "metadata": {
    "collapsed": false,
    "slideshow": {
     "slide_type": "-"
    }
   },
   "outputs": [],
   "source": [
    "import warnings\n",
    "warnings.filterwarnings(\"ignore\")\n",
    "os.chdir(os.path.join(os.path.expanduser(\"~\"), \"Google Drive\", \"Research\", \"CFT-vectors\"))\n",
    "import cft_vectors\n",
    "fig, ax = plt.subplots(figsize=(13, 13))\n",
    "fontsize = plt.rcParams[\"font.size\"]\n",
    "with plt.rc_context({\"font.size\": 1.4*fontsize}):\n",
    "    cft_vectors.plot_diagram(fig, ax, theta_deg=52, axis=\"off\", label=True)\n",
    "os.chdir(talk_dir)"
   ]
  },
  {
   "cell_type": "markdown",
   "metadata": {
    "slideshow": {
     "slide_type": "subslide"
    }
   },
   "source": [
    "## Dynamic stall modeling\n",
    "\n",
    "<center>\n",
    "<img src=\"figures/Leishman-Beddoes-1989.PNG\" width=\"80%\">\n",
    "\n",
    "<p class=\"citation\">\n",
    "From Leishman and Beddoes (1989)\n",
    "</p>\n",
    "</center>\n",
    "\n",
    "Leishman–Beddoes semi-empirical dynamic stall model based on lags to angle of attack, separation point, vortex lift, replicating \"hysteresis loop.\""
   ]
  },
  {
   "cell_type": "markdown",
   "metadata": {
    "slideshow": {
     "slide_type": "skip"
    }
   },
   "source": [
    "## Existing ALMs\n",
    "\n",
    "* Shamsoddin and Porte-Agel (2014)\n",
    "  * Cross-flow turbines in LES\n",
    "  * Closed source\n",
    "  * Validated against very low $Re$ 2-D data\n",
    "  * No performance predictions\n",
    "* NREL's SOWFA\n",
    "  * Open source OpenFOAM extension\n",
    "  * Axial-flow turbines only\n",
    "  * Mostly procedural style (hard to adapt for CFTs, many nested loops)\n",
    "  \n",
    "Time to write a new one!"
   ]
  },
  {
   "cell_type": "markdown",
   "metadata": {
    "slideshow": {
     "slide_type": "skip"
    }
   },
   "source": [
    "## New ALM library: `turbinesFoam`\n",
    "\n",
    "### Primary objectives\n",
    "\n",
    "* Simulate a standalone CFT in 3-D at $O(0.1)$ CPU hours per simulated second\n",
    "* Reasonable accuracy predicting performance (high and low solidity CFTs)\n",
    "* Match RVAT near-wake characteristics\n",
    "  * Mean velocity\n",
    "  * Turbulence kinetic energy\n",
    "  * Transport terms\n",
    "* Capture CFT \"constructive interference\" (Li and Calisal, 2010)\n",
    "\n",
    "\n",
    "### Secondary objectives\n",
    "\n",
    "* Also simulate AFTs\n",
    "* Easily automated, e.g. for finding optimal array layouts"
   ]
  },
  {
   "cell_type": "markdown",
   "metadata": {
    "slideshow": {
     "slide_type": "subslide"
    }
   },
   "source": [
    "## Flow field coupling\n",
    "\n",
    "AL force added to Navier–Stokes as body force source term:\n",
    "\n",
    "$$\n",
    "\\frac{\\partial \\vec{u}}{\\partial t} + \\vec{u} \\cdot \\nabla \\vec{u} = -\\frac{1}{\\rho}\\nabla p + \\nabla^2 \\vec{u} + \\boxed{\\vec{f}}\n",
    "$$\n",
    "\n",
    "Force is smoothed outwards with a spherical Gaussian function:\n",
    "\n",
    "<center>\n",
    "<img width=\"70%\" src=\"figures/force-projection.PNG\">\n",
    "</center>\n",
    "\n",
    "Gaussian width mainly determined by local mesh size: $\\approx 2 \\Delta x$ (Troldborg, 2008) $\\approx 2 \\times 2 \\sqrt[3] V_{\\mathrm{cell}}$\n",
    "\n",
    "<!--\n",
    "Width $\\epsilon$ is the largest of:\n",
    "\n",
    "* $c/4$\n",
    "* $\\theta = C_d l / 2$\n",
    "* $2 \\times 2 \\sqrt[3]{V_{\\mathrm{cell}}}$\n",
    "-->"
   ]
  },
  {
   "cell_type": "markdown",
   "metadata": {
    "slideshow": {
     "slide_type": "subslide"
    }
   },
   "source": [
    "## Implementation\n",
    "\n",
    "OpenFOAM extension library using `fvOptions` generic mechanism for adding sources at run time:\n",
    "\n",
    "```c++\n",
    "// Solve the Momentum equation\n",
    "\n",
    "tmp<fvVectorMatrix> UEqn\n",
    "(\n",
    "    fvm::ddt(U)\n",
    "  + fvm::div(phi, U)\n",
    "  + turbulence->divDevReff(U)\n",
    " ==\n",
    "    fvOptions(U)\n",
    ");\n",
    "```\n",
    "\n",
    "Leverage existing solvers, parallelization, turbulence models. _No wheel reinvention._\n",
    "\n",
    "<p class=\"citation\">Developed openly on GitHub: <a href=\"https://github.com/turbinesFoam/turbinesFoam\">https://github.com/turbinesFoam/turbinesFoam</a></p>"
   ]
  },
  {
   "cell_type": "markdown",
   "metadata": {
    "slideshow": {
     "slide_type": "skip"
    }
   },
   "source": [
    "## Implementation\n",
    "\n",
    "* An actuator line is composed of elements for which section coefficient data is available\n",
    "* Turbine composed of actuator lines—blades, struts, shafts, towers, etc. (any profile)\n",
    "* Use OpenFOAM's object oriented style to easily \"reuse\" actuator line code in both CFT and AFT (maintainability!)\n",
    "* Open source: https://github.com/turbinesFoam"
   ]
  },
  {
   "cell_type": "markdown",
   "metadata": {
    "slideshow": {
     "slide_type": "subslide"
    }
   },
   "source": [
    "## UNH-RVAT and RM2 actuator line simulations\n",
    "\n",
    "* Leishman–Beddoes DS model modified by Sheng et al. (2008)\n",
    "* Flow curvature correction from Goude (2012)\n",
    "* Lifting line based end effects model (not used for RM2)\n",
    "* Added mass correction from Strickland et al. (1981)\n",
    "* NACA 0021 static coefficients from Sheldahl and Klimas (1981)\n",
    "  * Major weakness of BE methods: Need static data, which is surprisingly hard to find\n",
    "* Standard $k$–$\\epsilon$ RANS model (eddy viscosity)"
   ]
  },
  {
   "cell_type": "markdown",
   "metadata": {
    "slideshow": {
     "slide_type": "subslide"
    }
   },
   "source": [
    "## ALM mesh\n",
    "\n",
    "Similar domain and BCs as 3-D blade-resolved case\n",
    "\n",
    "<center>\n",
    "<img width=65% src=figures/alm-mesh.PNG>\n",
    "</center>\n",
    "\n",
    "$\\sim 10^4$ lower computational effort with 3-D RANS compared to blade-resolved &#8594; Easily run on laptop"
   ]
  },
  {
   "cell_type": "markdown",
   "metadata": {
    "slideshow": {
     "slide_type": "subslide"
    }
   },
   "source": [
    "## ALM verification\n",
    "\n",
    "<center>\n",
    "<h4>UNH-RVAT</h4>\n",
    "<img width=80% src=figures/converted/RVAT-ALM_verification.png>\n",
    "<h4 style=\"margin-top: 0px\">RM2</h4>\n",
    "<img width=80% src=figures/converted/RM2-ALM_verification.png>\n",
    "</center>"
   ]
  },
  {
   "cell_type": "markdown",
   "metadata": {
    "slideshow": {
     "slide_type": "subslide"
    }
   },
   "source": [
    "## ALM performance\n",
    "\n",
    "<center>\n",
    "<h4>UNH-RVAT</h4>\n",
    "<img width=70% src=figures/converted/RVAT-ALM_perf-curves.png>\n",
    "<h4 style=\"margin-top: 0px\">RM2</h4>\n",
    "<img width=70% src=figures/converted/RM2-ALM_perf-curves.png>\n",
    "</center>"
   ]
  },
  {
   "cell_type": "markdown",
   "metadata": {
    "slideshow": {
     "slide_type": "subslide"
    }
   },
   "source": [
    "## UNH-RVAT near-wake mean velocity\n",
    "\n",
    "### ALM inside $k$–$\\epsilon$ RANS\n",
    "\n",
    "<center>\n",
    "<img width=75%, src=\"figures/converted/RVAT-ALM_meancontquiv.png\">\n",
    "</center>\n",
    "\n",
    "Low order modeling resolves less detail, but retains asymmetric streamwise deficit, counter-clockwise mean swirl.\n",
    "\n",
    "<!--\n",
    "<center>\n",
    "<img width=67%, style=\"padding-left: 10px\" src=\"figures/converted/RVAT-baseline_meancontquiv.png\">\n",
    "</center>\n",
    "-->"
   ]
  },
  {
   "cell_type": "markdown",
   "metadata": {
    "slideshow": {
     "slide_type": "skip"
    }
   },
   "source": [
    "## Near-wake TKE\n",
    "\n",
    "<center>\n",
    "<h4 style=\"padding-right: 32px\">RANS ALM</h4>\n",
    "<img width=80%, src=\"figures/converted/RVAT-ALM_kcont.png\">\n",
    "</center>\n",
    "\n",
    "<center>\n",
    "<h4 style=\"padding-right: 32px\">Experiment</h4>\n",
    "<img width=80%, src=\"figures/converted/RVAT-baseline_kcont.png\">\n",
    "</center>"
   ]
  },
  {
   "cell_type": "markdown",
   "metadata": {
    "slideshow": {
     "slide_type": "skip"
    }
   },
   "source": [
    "## RVAT near-wake profiles at $z/H=0$ (ALM)\n",
    "\n",
    "<center>\n",
    "<img width=80%, src=\"figures/converted/RVAT-ALM_wake-profiles.png\">\n",
    "</center>"
   ]
  },
  {
   "cell_type": "markdown",
   "metadata": {
    "slideshow": {
     "slide_type": "subslide"
    }
   },
   "source": [
    "## UNH-RVAT near-wake momentum transport\n",
    "\n",
    "### ALM inside $k$–$\\epsilon$ RANS\n",
    "\n",
    "<center>\n",
    "<img width=90%, src=\"figures/converted/RVAT-ALM_recovery-bar-chart.png\">\n",
    "</center>\n",
    "\n",
    "Matches trends relatively well except for cross-stream advection"
   ]
  },
  {
   "cell_type": "markdown",
   "metadata": {
    "slideshow": {
     "slide_type": "subslide"
    }
   },
   "source": [
    "## Actuator disk mean velocity at $x/D= 1$\n",
    "\n",
    "Common streamwise force parameterization based on $C_D$\n",
    "\n",
    "<center>\n",
    "<img width=75%, src=\"figures/converted/AD_meancontquiv.png\">\n",
    "</center>\n",
    "\n",
    "Small negative advection in all directions, very low turbulence, positive pressure gradient effect &#8594; ALM generates better IBCs for wake evolution\n"
   ]
  },
  {
   "cell_type": "markdown",
   "metadata": {
    "slideshow": {
     "slide_type": "skip"
    }
   },
   "source": [
    "## RM2 near-wake mean velocity (ALM)\n",
    "\n",
    "<center>\n",
    "<img width=60%, src=\"figures/converted/RM2-ALM_meancontquiv.png\">\n",
    "</center>\n",
    "\n",
    "<center>\n",
    "<img width=67%, style=\"padding-left: 10px\", src=\"figures/converted/RM2-tow-tank_meancontquiv.png\">\n",
    "</center>"
   ]
  },
  {
   "cell_type": "markdown",
   "metadata": {
    "slideshow": {
     "slide_type": "skip"
    }
   },
   "source": [
    "## RM2 near-wake TKE (ALM vs. experiment)\n",
    "\n",
    "<center>\n",
    "<h4>ALM</h4>\n",
    "<img width=80%, src=\"figures/converted/RM2-ALM_kcont.png\">\n",
    "</center>\n",
    "\n",
    "<center>\n",
    "<h4>Experiment</h4>\n",
    "<img width=80%, src=\"figures/converted/RM2-tow-tank_k_contours.png\">\n",
    "</center>"
   ]
  },
  {
   "cell_type": "markdown",
   "metadata": {
    "slideshow": {
     "slide_type": "skip"
    }
   },
   "source": [
    "## RM2 near-wake mean velocity (ALM)\n",
    "\n",
    "<center>\n",
    "<img width=80%, src=\"figures/converted/RM2-ALM_wake-profiles.png\">\n",
    "</center>"
   ]
  },
  {
   "cell_type": "markdown",
   "metadata": {
    "slideshow": {
     "slide_type": "skip"
    }
   },
   "source": [
    "## RM2 near-wake momentum transport (RANS ALM)\n",
    "\n",
    "Lower than UNH-RVAT, like experiments\n",
    "\n",
    "<center>\n",
    "<img width=90%, src=\"figures/converted/RM2-ALM_recovery-bar-chart.png\">\n",
    "</center>"
   ]
  },
  {
   "cell_type": "markdown",
   "metadata": {
    "slideshow": {
     "slide_type": "subslide"
    }
   },
   "source": [
    "## UNH-RVAT ALM LES\n",
    "\n",
    "Default Smagorinsky sub-grid scale model\n",
    "\n",
    "<center>\n",
    "<video width=100% controls loop autoplay>\n",
    "  <source src=\"videos/unh-rvat-alm-les.ogv\" type=\"video/ogg\">\n",
    "Your browser does not support the video tag.\n",
    "</video>\n",
    "</center>\n",
    "\n",
    "Computational expense up by $\\sim 10^2$, still $\\sim 10^2$ lower than BR RANS\n",
    "\n",
    "<!--\n",
    "<center>\n",
    "<iframe width=\"1000\" height=\"500\" src=\"https://www.youtube.com/embed/THZvV4R1vow?rel=0&autoplay=0\" frameborder=0 allowfullscreen></iframe>\n",
    "</center>\n",
    "-->"
   ]
  },
  {
   "cell_type": "markdown",
   "metadata": {
    "slideshow": {
     "slide_type": "subslide"
    }
   },
   "source": [
    "## UNH-RVAT near-wake\n",
    "\n",
    "### ALM inside default Smagorinsky LES\n",
    "\n",
    "<center>\n",
    "<img width=75%, src=\"figures/converted/RVAT-ALM-LES_meancontquiv.png\">\n",
    "</center>\n",
    "\n",
    "Finer mesh reduces diffusion of counter-clockwise mean swirl\n",
    "\n",
    "<!--\n",
    "<img width=65%, src=\"figures/converted/RVAT-ALM-LES_kcont.png\">\n",
    "</center>\n",
    "-->"
   ]
  },
  {
   "cell_type": "markdown",
   "metadata": {
    "slideshow": {
     "slide_type": "subslide"
    }
   },
   "source": [
    "## UNH-RVAT near-wake momentum transport\n",
    "\n",
    "### ALM inside default Smagorinsky LES\n",
    "\n",
    "<center>\n",
    "<img width=90%, src=\"figures/converted/RVAT-ALM-LES_recovery-bar-chart.png\">\n",
    "</center>\n",
    "\n",
    "Small negative turbulence effects &#8594; SGS model and vortex breakdown"
   ]
  },
  {
   "cell_type": "markdown",
   "metadata": {
    "slideshow": {
     "slide_type": "slide"
    }
   },
   "source": [
    "## Conclusions (I)\n",
    "\n",
    "* Developed an automated turbine test bed and two 1 m scale turbine models\n",
    "  * High solidity UNH-RVAT and medium/low solidity RM2\n",
    "* Produced 3 open performance and near-wake datasets\n",
    "* Near-wake streamwise recovery dominated by vertical advection\n",
    "* $Re$-independence at $Re_D \\sim 10^6$ or $Re_c \\sim 10^5$\n",
    "  * Guidelines for physical model scaling\n",
    "* Blade-resolved RANS _can_ postdict _some_ results in 3-D\n",
    "  * Uncertainty w.r.t. turbulence model choice\n",
    "  * Too expensive for arrays"
   ]
  },
  {
   "cell_type": "markdown",
   "metadata": {
    "slideshow": {
     "slide_type": "subslide"
    }
   },
   "source": [
    "## Conclusions (II)\n",
    "\n",
    "Developed new open-source ALM library for OpenFOAM\n",
    "\n",
    "* Fills gap between low- and high-fidelity modeling\n",
    "* Retains Navier–Stokes description\n",
    "* Reduce computational effort (not including meshing):"
   ]
  },
  {
   "cell_type": "code",
   "execution_count": null,
   "metadata": {
    "collapsed": false,
    "slideshow": {
     "slide_type": "-"
    }
   },
   "outputs": [],
   "source": [
    "import pandas as pd\n",
    "data = pd.Series()\n",
    "data[\"ALM (3-D LES)\"] = 10.0\n",
    "data[\"ALM (3-D RANS)\"] = 0.1\n",
    "data[\"BR CFD (3-D)\"] = 10**3\n",
    "data[\"BR CFD (2-D)\"] = 0.1\n",
    "\n",
    "with sns.plotting_context(font_scale=3) \\\n",
    "        and plt.rc_context({\"axes.formatter.limits\": (-1, 1),\n",
    "                            \"axes.formatter.use_mathtext\": True}):\n",
    "    fig, ax = plt.subplots(figsize=(11, 2.5))\n",
    "    data.plot(ax=ax, kind=\"barh\", logy=False, rot=0)\n",
    "    ax.set_xlabel(\"CPU hours per simulated second (approx.)\")\n",
    "plt.show()"
   ]
  },
  {
   "cell_type": "markdown",
   "metadata": {},
   "source": [
    "* Performance predictions close to 3-D B-R RANS at optimal $\\lambda$\n",
    "* Wake predictions much better than AD, except low turbulent transport in LES\n",
    "* Promising for future development &#8594; Improves with turbulence modeling"
   ]
  },
  {
   "cell_type": "markdown",
   "metadata": {
    "slideshow": {
     "slide_type": "notes"
    }
   },
   "source": [
    "* Similar expense as vortex modeling\n",
    "* Will continue to improve as computing resources and turbulence modeling advance."
   ]
  },
  {
   "cell_type": "markdown",
   "metadata": {
    "slideshow": {
     "slide_type": "skip"
    }
   },
   "source": [
    "## Research products summary\n",
    "\n",
    "### Journal articles\n",
    "\n",
    "#### Published\n",
    "\n",
    "<p class=\"citation\">\n",
    "Bachant, P., and Wosnik, M. (2016) \"Effects of Reynolds Number on the Energy Conversion and Near-Wake Dynamics of a High Solidity Vertical-Axis Cross-Flow Turbine\", Energies, 9.\n",
    "</p>\n",
    "\n",
    "<p class=\"citation\">\n",
    "Bachant, P., and Wosnik, M. (2015) \"Characterising the near-wake of a cross-flow turbine\", Journal of Turbulence, 16, 392–410.\n",
    "</p>\n",
    "\n",
    "\n",
    "#### Under review\n",
    "\n",
    "<p class=\"citation\">\n",
    "Bachant, P., Gunawan, B., Wosnik, M., and Neary, V.S. (2016) \"Experimental Study of a Reference Model Vertical-Axis Cross-Flow Turbine\", PLoS ONE.\n",
    "</p>\n",
    "\n",
    "<p class=\"citation\">\n",
    "Bachant, P., and Wosnik, M. (2016) \"Modeling the near-wake of a vertical-axis cross-flow turbine with 2-D and 3-D RANS\", Journal of Renewable and Sustainable Energy.\n",
    "</p>\n",
    "\n",
    "\n",
    "#### In preparation\n",
    "\n",
    "<p class=\"citation\">\n",
    "Bachant, P., and Wosnik, M. (2016) \"Development of an actuator line model for cross-flow turbines\".\n",
    "</p>"
   ]
  },
  {
   "cell_type": "markdown",
   "metadata": {
    "slideshow": {
     "slide_type": "skip"
    }
   },
   "source": [
    "## Research products summary\n",
    "\n",
    "### Conference papers and proceedings\n"
   ]
  },
  {
   "cell_type": "markdown",
   "metadata": {
    "slideshow": {
     "slide_type": "skip"
    }
   },
   "source": [
    "## Research products summary\n",
    "\n",
    "### Open datasets\n",
    "\n",
    "<p class=\"citation\">\n",
    "Bachant, P., and Wosnik, M. (2016) \"UNH-RVAT Reynolds number dependence experiment: Reduced dataset and processing code\", Figshare, DOI: <a href=\"http://doi.org/10.6084/m9.figshare.1286960\">10.6084/m9.figshare.1286960</a>.\n",
    "</p>\n",
    "\n",
    "<p class=\"citation\">\n",
    "Bachant, P., Gunawan, B., Wosnik, M., and Neary, V.S. (2016) \"UNH RM2 tow tank experiment: Reduced dataset and processing code\", Figshare, DOI: <a href=\"http://doi.org/10.6084/m9.figshare.1373899\">10.6084/m9.figshare.1373899</a>.\n",
    "</p>\n",
    "\n",
    "<p class=\"citation\">\n",
    "Bachant, P., and Wosnik, M. (2014) \"UNH-RVAT baseline performance and near-wake measurements: Reduced dataset and processing code\", Figshare, DOI: <a href=\"http://doi.org/10.6084/m9.figshare.1080781\">10.6084/m9.figshare.1080781</a>.\n",
    "</p>\n",
    "\n",
    "\n",
    "### CAD files\n",
    "\n",
    "<p class=\"citation\">\n",
    "Bachant, P., Gunawan, B., Wosnik, M., and Neary, V.S. (2015) \"1:6 scale {RM2} cross-flow turbine CAD package\", Figshare, DOI: <a href=\"10.6084/m9.figshare.1373870\">10.6084/m9.figshare.1373870</a>.\n",
    "</p>\n",
    "\n",
    "<p class=\"citation\">\n",
    "Bachant, P., and Wosnik, M. (2014) \"UNH-RVAT CAD models\", Figshare, DOI: <a href=\"http://doi.org/10.6084/m9.figshare.1062009\">10.6084/m9.figshare.1062009</a>.\n",
    "</p>"
   ]
  },
  {
   "cell_type": "markdown",
   "metadata": {
    "slideshow": {
     "slide_type": "skip"
    }
   },
   "source": [
    "## Research products summary\n",
    "\n",
    "### Open-source code\n",
    "\n",
    "<p class=\"citation\">\n",
    "Bachant, P., Goude, A., and Wosnik, M. \"turbinesFoam: Actuator line modeling library for OpenFOAM\", Available from: <a>https://github.com/turbinesFoam/turbinesFoam</a>\n",
    "</p>\n",
    "\n",
    "\n",
    "\n",
    "### CFD case files\n",
    "\n",
    "[UNH-RVAT blade-resolved (2-D)](https://github.com/petebachant/UNH-RVAT-2D-OpenFOAM)\n",
    "\n",
    "[UNH-RVAT blade-resolved (3-D)](https://github.com/petebachant/UNH-RVAT-3D-OpenFOAM)\n",
    "\n",
    "[Actuator disk](https://github.com/petebachant/actuatorSurface-OpenFOAM)\n",
    "\n",
    "[UNH-RVAT ALM](https://github.com/petebachant/UNH-RVAT-turbinesFoam)\n",
    "\n",
    "[RM2 ALM](https://github.com/petebachant/RM2-turbinesFoam)\n",
    "\n",
    "[ALM simulating NTNU HAWT experiment](https://github.com/petebachant/NTNU-HAWT-turbinesFoam)"
   ]
  },
  {
   "cell_type": "markdown",
   "metadata": {
    "slideshow": {
     "slide_type": "subslide"
    }
   },
   "source": [
    "## Future work\n",
    "\n",
    "* 2-D blade-resolved RANS for relative optimization\n",
    "* Investigate wake further downstream\n",
    "  * Compute streamwise derivatives and overall recovery rate\n",
    "  * Compare with blade-resolved CFD and ALM\n",
    "* Vortex breakdown (PIV?) and SGS model selection\n",
    "* ALM validation against multi-CFT (small array) experiments"
   ]
  },
  {
   "cell_type": "markdown",
   "metadata": {
    "slideshow": {
     "slide_type": "subslide"
    }
   },
   "source": [
    "## Future work: VAT with free surface\n",
    "\n",
    "<center>\n",
    "<video width=100% controls loop autoplay>\n",
    "  <source src=\"videos/unh-rvat-alm-free-surface.ogv\" type=\"video/ogg\">\n",
    "Your browser does not support the video tag.\n",
    "</video>\n",
    "</center>"
   ]
  },
  {
   "cell_type": "markdown",
   "metadata": {
    "slideshow": {
     "slide_type": "subslide"
    }
   },
   "source": [
    "## Future work: Axial-flow turbine\n",
    "\n",
    "Extensive AFT validation case by Krogstad and Adaramola (2012)\n",
    "\n",
    "<center>\n",
    "<video width=100% controls loop autoplay>\n",
    "  <source src=\"videos/aft-alm-les.ogv\" type=\"video/ogg\">\n",
    "Your browser does not support the video tag.\n",
    "</video>\n",
    "</center>"
   ]
  },
  {
   "cell_type": "markdown",
   "metadata": {
    "slideshow": {
     "slide_type": "subslide"
    }
   },
   "source": [
    "## Acknowledgments\n",
    "\n",
    "<center>\n",
    "<img width=200px src=figures/nsf.png>\n",
    "<img width=200px src=figures/us-doe.png>\n",
    "<img width=200px src=figures/snl_logo.png>\n",
    "</center>\n"
   ]
  }
 ],
 "metadata": {
  "celltoolbar": "Slideshow",
  "kernelspec": {
   "display_name": "Python 3",
   "language": "python",
   "name": "python3"
  },
  "language_info": {
   "codemirror_mode": {
    "name": "ipython",
    "version": 3
   },
   "file_extension": ".py",
   "mimetype": "text/x-python",
   "name": "python",
   "nbconvert_exporter": "python",
   "pygments_lexer": "ipython3",
   "version": "3.5.1"
  }
 },
 "nbformat": 4,
 "nbformat_minor": 0
}
